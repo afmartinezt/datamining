{
 "cells": [
  {
   "cell_type": "markdown",
   "metadata": {},
   "source": [
    "# Project 3\n",
    "\n",
    "\n",
    "# Conversations Toxicity Detection\n",
    "\n",
    "Jigsaw Unintended Bias in Toxicity Classification \n",
    "\n",
    "Detect toxicity across a diverse range of conversations\n",
    "\n",
    "\n",
    "https://www.kaggle.com/c/jigsaw-unintended-bias-in-toxicity-classification/data#\n",
    "\n",
    "\n",
    "Try Colab\n",
    "https://albahnsen.com/2018/07/22/how-to-download-kaggle-data-into-google-colab/\n",
    "\n",
    "\n",
    "## Description\n",
    "\n",
    "## Background\n",
    "At the end of 2017 the Civil Comments platform shut down and chose make their ~2m public comments from their platform available in a lasting open archive so that researchers could understand and improve civility in online conversations for years to come. Jigsaw sponsored this effort and extended annotation of this data by human raters for various toxic conversational attributes.\n",
    "\n",
    "In the data supplied for this competition, the text of the individual comment is found in the comment_text column. Each comment in Train has a toxicity label (target), and models should predict the target toxicity for the Test data. This attribute (and all others) are fractional values which represent the fraction of human raters who believed the attribute applied to the given comment. For evaluation, test set examples with target >= 0.5 will be considered to be in the positive class (toxic).\n",
    "\n",
    "The data also has several additional toxicity subtype attributes. Models do not need to predict these attributes for the competition, they are included as an additional avenue for research. Subtype attributes are:\n",
    "\n",
    "- severe_toxicity\n",
    "- obscene\n",
    "- threat\n",
    "- insult\n",
    "- identity_attack\n",
    "- sexual_explicit\n",
    "\n",
    "Additionally, a subset of comments have been labelled with a variety of identity attributes, representing the identities that are mentioned in the comment. The columns corresponding to identity attributes are listed below. Only identities with more than 500 examples in the test set (combined public and private) will be included in the evaluation calculation. These identities are shown in bold.\n",
    "\n",
    "- male\n",
    "- female\n",
    "- transgender\n",
    "- other_gender\n",
    "- heterosexual\n",
    "- homosexual_gay_or_lesbian\n",
    "- bisexual\n",
    "- other_sexual_orientation\n",
    "- christian\n",
    "- jewish\n",
    "- muslim\n",
    "- hindu\n",
    "- buddhist\n",
    "- atheist\n",
    "- other_religion\n",
    "- black\n",
    "- white\n",
    "- asian\n",
    "- latino\n",
    "- other_race_or_ethnicity\n",
    "- physical_disability\n",
    "- intellectual_or_learning_disability\n",
    "- psychiatric_or_mental_illness\n",
    "- other_disability\n",
    "\n",
    "Note that the data contains different comments that can have the exact same text. Different comments that have the same text may have been labeled with different targets or subgroups.\n",
    "\n",
    "## Examples\n",
    "Here are a few examples of comments and their associated toxicity and identity labels. Label values range from 0.0 - 1.0 represented the fraction of raters who believed the label fit the comment.\n",
    "\n",
    "- Comment: i'm a white woman in my late 60's and believe me, they are not too crazy about me either!!\n",
    "\n",
    "Toxicity Labels: All 0.0\n",
    "Identity Mention Labels: female: 1.0, white: 1.0 (all others 0.0)\n",
    "- Comment: Why would you assume that the nurses in this story were women?\n",
    "\n",
    "Toxicity Labels: All 0.0\n",
    "Identity Mention Labels: female: 0.8 (all others 0.0)\n",
    "- Comment: Continue to stand strong LGBT community. Yes, indeed, you'll overcome and you have.\n",
    "\n",
    "Toxicity Labels: All 0.0\n",
    "Identity Mention Labels: homosexual_gay_or_lesbian: 0.8, bisexual: 0.6, transgender: 0.3 (all others 0.0)\n",
    "\n",
    "In addition to the labels described above, the dataset also provides metadata from Jigsaw's annotation: toxicity_annotator_count and identity_annotator_count, and metadata from Civil Comments: created_date, publication_id, parent_id, article_id, rating, funny, wow, sad, likes, disagree. Civil Comments' label rating is the civility rating Civil Comments users gave the comment.\n",
    "\n",
    "## Labelling Schema\n",
    "To obtain the toxicity labels, each comment was shown to up to 10 annotators*. Annotators were asked to: \"Rate the toxicity of this comment\"\n",
    "\n",
    "- Very Toxic (a very hateful, aggressive, or disrespectful comment that is very likely to make you leave a discussion or give up on sharing your perspective)\n",
    "- Toxic (a rude, disrespectful, or unreasonable comment that is somewhat likely to make you leave a discussion or give up on sharing your perspective)\n",
    "- Hard to Say\n",
    "- Not Toxic\n",
    "\n",
    "These ratings were then aggregated with the target value representing the fraction of annotations that annotations fell within the former two categories.\n",
    "\n",
    "To collect the identity labels, annotators were asked to indicate all identities that were mentioned in the comment. An example question that was asked as part of this annotation effort was: \"What genders are mentioned in the comment?\"\n",
    "\n",
    "- Male\n",
    "- Female\n",
    "- Transgender\n",
    "- Other gender\n",
    "- No gender mentioned\n",
    "\n",
    "Again, these were aggregated into fractional values representing the fraction of raters who said the identity was mentioned in the comment.\n",
    "\n",
    "The distributions of labels and subgroup between Train and Test can be assumed to be similar, but not exact.\n",
    "\n",
    "*Note: Some comments were seen by many more than 10 annotators (up to thousands), due to sampling and strategies used to enforce rater accuracy.\n",
    "\n",
    "## File descriptions\n",
    "- train.csv - the training set, which includes subgroups\n",
    "- test.csv - the test set, which does not include subgroups\n",
    "- sample_submission.csv - a sample submission file in the correct format\n",
    "\n",
    "\n",
    "# Evaluation\n",
    "\n",
    "- 50% Create a solution using with a Machine Learning algorithm - Presentation - Only show what you did different or what other teams can learn from your solution\n",
    "- 50% Performance in the Kaggle competition (Normalized acording to class performance in the private leaderboard)\n",
    "\n",
    "_____________"
   ]
  },
  {
   "cell_type": "code",
   "execution_count": null,
   "metadata": {},
   "outputs": [],
   "source": [
    "import pandas as pd\n",
    "import numpy as np\n",
    "import seaborn as sns\n",
    "import matplotlib.pyplot as plt\n",
    "import spacy\n",
    "import os\n",
    "# print(os.listdir(\"../input\"))"
   ]
  },
  {
   "cell_type": "code",
   "execution_count": null,
   "metadata": {},
   "outputs": [],
   "source": [
    "import tensorflow as tf\n",
    "sess = tf.Session(config=tf.ConfigProto(log_device_placement=True))\n",
    "\n",
    "import keras\n",
    "from keras import backend as K\n",
    "from keras.models import Sequential\n",
    "from keras.layers.recurrent import LSTM\n",
    "from keras.layers.core import Dense, Dropout\n",
    "from keras.layers.embeddings import Embedding\n",
    "from keras.preprocessing import sequence\n",
    "\n",
    "from livelossplot import PlotLossesKeras\n",
    "%matplotlib inline\n",
    "\n",
    "import keras\n",
    "from keras import backend as K\n",
    "print(K.tensorflow_backend._get_available_gpus())"
   ]
  },
  {
   "cell_type": "code",
   "execution_count": null,
   "metadata": {},
   "outputs": [],
   "source": [
    "#train_df = pd.read_csv(\"../input/train.csv\")\n",
    "#train_df = train_df[['id','comment_text', 'target']]\n",
    "#test_df = pd.read_csv(\"../input/test.csv\")\n",
    "\n",
    "train_df = pd.read_csv(\"train.csv\")\n",
    "train_df = train_df[['id','comment_text', 'target']]\n",
    "test_df = pd.read_csv(\"test.csv\")\n",
    "\n",
    "train_df.shape, test_df.shape"
   ]
  },
  {
   "cell_type": "code",
   "execution_count": null,
   "metadata": {},
   "outputs": [],
   "source": [
    "train_df.head(10)"
   ]
  },
  {
   "cell_type": "code",
   "execution_count": null,
   "metadata": {},
   "outputs": [],
   "source": [
    "test_df.tail(10)"
   ]
  },
  {
   "cell_type": "code",
   "execution_count": null,
   "metadata": {},
   "outputs": [],
   "source": [
    "comment_text = train_df['comment_text'].append(test_df['comment_text'])\n",
    "pd.DataFrame(comment_text).head()"
   ]
  },
  {
   "cell_type": "code",
   "execution_count": null,
   "metadata": {},
   "outputs": [],
   "source": [
    "from sklearn.feature_extraction.text import CountVectorizer, TfidfVectorizer\n",
    "\n",
    "vect = TfidfVectorizer(max_features=1000)\n",
    "vect.fit(comment_text)"
   ]
  },
  {
   "cell_type": "code",
   "execution_count": null,
   "metadata": {},
   "outputs": [],
   "source": [
    "X = vect.transform(train_df['comment_text'])\n",
    "y = train_df['target']\n",
    "\n",
    "X.shape, y.shape"
   ]
  },
  {
   "cell_type": "code",
   "execution_count": null,
   "metadata": {},
   "outputs": [],
   "source": [
    "from sklearn.model_selection import train_test_split\n",
    "\n",
    "X_train, X_test, y_train, y_test = train_test_split(X, y, test_size=0.33, random_state=42)"
   ]
  },
  {
   "cell_type": "code",
   "execution_count": null,
   "metadata": {},
   "outputs": [],
   "source": []
  },
  {
   "cell_type": "code",
   "execution_count": null,
   "metadata": {},
   "outputs": [],
   "source": [
    "model = Sequential()\n",
    "model.add(Embedding(X.shape[1] + 1, X.shape[1]))\n",
    "model.add(LSTM(32))\n",
    "model.add(Dropout(0.5))\n",
    "model.add(Dense(1, activation='sigmoid'))\n",
    "model.compile(loss='binary_crossentropy', optimizer='rmsprop', metrics=['accuracy'])\n",
    "\n",
    "model.summary()"
   ]
  },
  {
   "cell_type": "code",
   "execution_count": null,
   "metadata": {},
   "outputs": [],
   "source": [
    "model.fit(X_train, y_train, validation_data=[X_test, y_test], \n",
    "          batch_size=128, epochs=3, verbose=1,\n",
    "          callbacks=[PlotLossesKeras()])"
   ]
  },
  {
   "cell_type": "code",
   "execution_count": null,
   "metadata": {},
   "outputs": [],
   "source": []
  },
  {
   "cell_type": "code",
   "execution_count": null,
   "metadata": {},
   "outputs": [],
   "source": []
  },
  {
   "cell_type": "code",
   "execution_count": null,
   "metadata": {},
   "outputs": [],
   "source": []
  },
  {
   "cell_type": "code",
   "execution_count": null,
   "metadata": {},
   "outputs": [],
   "source": []
  }
 ],
 "metadata": {
  "kernelspec": {
   "display_name": "Python 3",
   "language": "python",
   "name": "python3"
  },
  "language_info": {
   "codemirror_mode": {
    "name": "ipython",
    "version": 3
   },
   "file_extension": ".py",
   "mimetype": "text/x-python",
   "name": "python",
   "nbconvert_exporter": "python",
   "pygments_lexer": "ipython3",
   "version": "3.7.3"
  }
 },
 "nbformat": 4,
 "nbformat_minor": 1
}
