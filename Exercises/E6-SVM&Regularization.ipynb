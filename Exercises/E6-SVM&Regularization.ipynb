{
 "cells": [
  {
   "cell_type": "markdown",
   "metadata": {},
   "source": [
    "# Exercise 6\n",
    "\n",
    "## SVM & Regularization\n",
    "\n",
    "\n",
    "For this homework we consider a set of observations on a number of red and white wine varieties involving their chemical properties and ranking by tasters. Wine industry shows a recent growth spurt as social drinking is on the rise. The price of wine depends on a rather abstract concept of wine appreciation by wine tasters, opinion among whom may have a high degree of variability. Pricing of wine depends on such a volatile factor to some extent. Another key factor in wine certification and quality assessment is physicochemical tests which are laboratory-based and takes into account factors like acidity, pH level, presence of sugar and other chemical properties. For the wine market, it would be of interest if human quality of tasting can be related to the chemical properties of wine so that certification and quality assessment and assurance process is more controlled.\n",
    "\n",
    "Two datasets are available of which one dataset is on red wine and have 1599 different varieties and the other is on white wine and have 4898 varieties. All wines are produced in a particular area of Portugal. Data are collected on 12 different properties of the wines one of which is Quality, based on sensory data, and the rest are on chemical properties of the wines including density, acidity, alcohol content etc. All chemical properties of wines are continuous variables. Quality is an ordinal variable with possible ranking from 1 (worst) to 10 (best). Each variety of wine is tasted by three independent tasters and the final rank assigned is the median rank given by the tasters.\n",
    "\n",
    "A predictive model developed on this data is expected to provide guidance to vineyards regarding quality and price expected on their produce without heavy reliance on volatility of wine tasters."
   ]
  },
  {
   "cell_type": "code",
   "execution_count": 1,
   "metadata": {},
   "outputs": [],
   "source": [
    "import pandas as pd\n",
    "import numpy as np\n",
    "\n",
    "import warnings\n",
    "warnings.filterwarnings('ignore')"
   ]
  },
  {
   "cell_type": "code",
   "execution_count": 2,
   "metadata": {},
   "outputs": [],
   "source": [
    "data_r = pd.read_csv('https://github.com/albahnsen/PracticalMachineLearningClass/raw/master/datasets/Wine_data_red.csv')\n",
    "data_w = pd.read_csv('https://github.com/albahnsen/PracticalMachineLearningClass/raw/master/datasets/Wine_data_white.csv')"
   ]
  },
  {
   "cell_type": "code",
   "execution_count": 3,
   "metadata": {},
   "outputs": [
    {
     "data": {
      "text/html": [
       "<div>\n",
       "<style scoped>\n",
       "    .dataframe tbody tr th:only-of-type {\n",
       "        vertical-align: middle;\n",
       "    }\n",
       "\n",
       "    .dataframe tbody tr th {\n",
       "        vertical-align: top;\n",
       "    }\n",
       "\n",
       "    .dataframe thead th {\n",
       "        text-align: right;\n",
       "    }\n",
       "</style>\n",
       "<table border=\"1\" class=\"dataframe\">\n",
       "  <thead>\n",
       "    <tr style=\"text-align: right;\">\n",
       "      <th></th>\n",
       "      <th>fixed acidity</th>\n",
       "      <th>volatile acidity</th>\n",
       "      <th>citric acid</th>\n",
       "      <th>residual sugar</th>\n",
       "      <th>chlorides</th>\n",
       "      <th>free sulfur dioxide</th>\n",
       "      <th>total sulfur dioxide</th>\n",
       "      <th>density</th>\n",
       "      <th>pH</th>\n",
       "      <th>sulphates</th>\n",
       "      <th>alcohol</th>\n",
       "      <th>quality</th>\n",
       "      <th>type</th>\n",
       "    </tr>\n",
       "  </thead>\n",
       "  <tbody>\n",
       "    <tr>\n",
       "      <th>5750</th>\n",
       "      <td>8.0</td>\n",
       "      <td>0.42</td>\n",
       "      <td>0.32</td>\n",
       "      <td>2.5</td>\n",
       "      <td>0.080</td>\n",
       "      <td>26.0</td>\n",
       "      <td>122.0</td>\n",
       "      <td>0.99801</td>\n",
       "      <td>3.22</td>\n",
       "      <td>1.07</td>\n",
       "      <td>9.7</td>\n",
       "      <td>5</td>\n",
       "      <td>red</td>\n",
       "    </tr>\n",
       "    <tr>\n",
       "      <th>505</th>\n",
       "      <td>7.8</td>\n",
       "      <td>0.18</td>\n",
       "      <td>0.31</td>\n",
       "      <td>12.2</td>\n",
       "      <td>0.053</td>\n",
       "      <td>46.0</td>\n",
       "      <td>140.0</td>\n",
       "      <td>0.99800</td>\n",
       "      <td>3.06</td>\n",
       "      <td>0.53</td>\n",
       "      <td>8.9</td>\n",
       "      <td>6</td>\n",
       "      <td>white</td>\n",
       "    </tr>\n",
       "    <tr>\n",
       "      <th>462</th>\n",
       "      <td>5.9</td>\n",
       "      <td>0.25</td>\n",
       "      <td>0.19</td>\n",
       "      <td>12.4</td>\n",
       "      <td>0.047</td>\n",
       "      <td>50.0</td>\n",
       "      <td>162.0</td>\n",
       "      <td>0.99730</td>\n",
       "      <td>3.35</td>\n",
       "      <td>0.38</td>\n",
       "      <td>9.5</td>\n",
       "      <td>5</td>\n",
       "      <td>white</td>\n",
       "    </tr>\n",
       "    <tr>\n",
       "      <th>2555</th>\n",
       "      <td>6.3</td>\n",
       "      <td>0.13</td>\n",
       "      <td>0.42</td>\n",
       "      <td>1.1</td>\n",
       "      <td>0.043</td>\n",
       "      <td>63.0</td>\n",
       "      <td>146.0</td>\n",
       "      <td>0.99066</td>\n",
       "      <td>3.13</td>\n",
       "      <td>0.72</td>\n",
       "      <td>11.2</td>\n",
       "      <td>7</td>\n",
       "      <td>white</td>\n",
       "    </tr>\n",
       "    <tr>\n",
       "      <th>3477</th>\n",
       "      <td>7.6</td>\n",
       "      <td>0.31</td>\n",
       "      <td>0.24</td>\n",
       "      <td>1.8</td>\n",
       "      <td>0.037</td>\n",
       "      <td>39.0</td>\n",
       "      <td>150.0</td>\n",
       "      <td>0.99130</td>\n",
       "      <td>3.05</td>\n",
       "      <td>0.44</td>\n",
       "      <td>11.8</td>\n",
       "      <td>7</td>\n",
       "      <td>white</td>\n",
       "    </tr>\n",
       "  </tbody>\n",
       "</table>\n",
       "</div>"
      ],
      "text/plain": [
       "      fixed acidity  volatile acidity  citric acid  residual sugar  chlorides  \\\n",
       "5750            8.0              0.42         0.32             2.5      0.080   \n",
       "505             7.8              0.18         0.31            12.2      0.053   \n",
       "462             5.9              0.25         0.19            12.4      0.047   \n",
       "2555            6.3              0.13         0.42             1.1      0.043   \n",
       "3477            7.6              0.31         0.24             1.8      0.037   \n",
       "\n",
       "      free sulfur dioxide  total sulfur dioxide  density    pH  sulphates  \\\n",
       "5750                 26.0                 122.0  0.99801  3.22       1.07   \n",
       "505                  46.0                 140.0  0.99800  3.06       0.53   \n",
       "462                  50.0                 162.0  0.99730  3.35       0.38   \n",
       "2555                 63.0                 146.0  0.99066  3.13       0.72   \n",
       "3477                 39.0                 150.0  0.99130  3.05       0.44   \n",
       "\n",
       "      alcohol  quality   type  \n",
       "5750      9.7        5    red  \n",
       "505       8.9        6  white  \n",
       "462       9.5        5  white  \n",
       "2555     11.2        7  white  \n",
       "3477     11.8        7  white  "
      ]
     },
     "execution_count": 3,
     "metadata": {},
     "output_type": "execute_result"
    }
   ],
   "source": [
    "data = data_w.assign(type = 'white')\n",
    "data = data.append(data_r.assign(type = 'red'), ignore_index=True)\n",
    "\n",
    "data.sample(5)"
   ]
  },
  {
   "cell_type": "markdown",
   "metadata": {},
   "source": [
    "# Exercise 6.1\n",
    "\n",
    "Show the frecuency table of the quality by type of wine"
   ]
  },
  {
   "cell_type": "code",
   "execution_count": 4,
   "metadata": {},
   "outputs": [
    {
     "data": {
      "text/html": [
       "<div>\n",
       "<style scoped>\n",
       "    .dataframe tbody tr th:only-of-type {\n",
       "        vertical-align: middle;\n",
       "    }\n",
       "\n",
       "    .dataframe tbody tr th {\n",
       "        vertical-align: top;\n",
       "    }\n",
       "\n",
       "    .dataframe thead th {\n",
       "        text-align: right;\n",
       "    }\n",
       "</style>\n",
       "<table border=\"1\" class=\"dataframe\">\n",
       "  <thead>\n",
       "    <tr style=\"text-align: right;\">\n",
       "      <th></th>\n",
       "      <th></th>\n",
       "      <th>quality</th>\n",
       "    </tr>\n",
       "    <tr>\n",
       "      <th>type</th>\n",
       "      <th>quality</th>\n",
       "      <th></th>\n",
       "    </tr>\n",
       "  </thead>\n",
       "  <tbody>\n",
       "    <tr>\n",
       "      <th rowspan=\"6\" valign=\"top\">red</th>\n",
       "      <th>3</th>\n",
       "      <td>10</td>\n",
       "    </tr>\n",
       "    <tr>\n",
       "      <th>4</th>\n",
       "      <td>53</td>\n",
       "    </tr>\n",
       "    <tr>\n",
       "      <th>5</th>\n",
       "      <td>681</td>\n",
       "    </tr>\n",
       "    <tr>\n",
       "      <th>6</th>\n",
       "      <td>638</td>\n",
       "    </tr>\n",
       "    <tr>\n",
       "      <th>7</th>\n",
       "      <td>199</td>\n",
       "    </tr>\n",
       "    <tr>\n",
       "      <th>8</th>\n",
       "      <td>18</td>\n",
       "    </tr>\n",
       "    <tr>\n",
       "      <th rowspan=\"7\" valign=\"top\">white</th>\n",
       "      <th>3</th>\n",
       "      <td>20</td>\n",
       "    </tr>\n",
       "    <tr>\n",
       "      <th>4</th>\n",
       "      <td>163</td>\n",
       "    </tr>\n",
       "    <tr>\n",
       "      <th>5</th>\n",
       "      <td>1457</td>\n",
       "    </tr>\n",
       "    <tr>\n",
       "      <th>6</th>\n",
       "      <td>2198</td>\n",
       "    </tr>\n",
       "    <tr>\n",
       "      <th>7</th>\n",
       "      <td>880</td>\n",
       "    </tr>\n",
       "    <tr>\n",
       "      <th>8</th>\n",
       "      <td>175</td>\n",
       "    </tr>\n",
       "    <tr>\n",
       "      <th>9</th>\n",
       "      <td>5</td>\n",
       "    </tr>\n",
       "  </tbody>\n",
       "</table>\n",
       "</div>"
      ],
      "text/plain": [
       "               quality\n",
       "type  quality         \n",
       "red   3             10\n",
       "      4             53\n",
       "      5            681\n",
       "      6            638\n",
       "      7            199\n",
       "      8             18\n",
       "white 3             20\n",
       "      4            163\n",
       "      5           1457\n",
       "      6           2198\n",
       "      7            880\n",
       "      8            175\n",
       "      9              5"
      ]
     },
     "execution_count": 4,
     "metadata": {},
     "output_type": "execute_result"
    }
   ],
   "source": [
    "pd.pivot_table(data, index=['type', 'quality'], aggfunc={'quality': len})"
   ]
  },
  {
   "cell_type": "markdown",
   "metadata": {},
   "source": [
    "# SVM"
   ]
  },
  {
   "cell_type": "markdown",
   "metadata": {},
   "source": [
    "# Exercise 6.2\n",
    "\n",
    "* Standarized the features (not the quality)\n",
    "* Create a binary target for each type of wine\n",
    "* Create two Linear SVM's for the white and red wines, repectively.\n"
   ]
  },
  {
   "cell_type": "markdown",
   "metadata": {},
   "source": [
    "In order to create the two linear SVMs, will split the dataset in two. One for **red** wine and the other for **white** wine."
   ]
  },
  {
   "cell_type": "code",
   "execution_count": 5,
   "metadata": {},
   "outputs": [],
   "source": [
    "wine = data\n",
    "\n",
    "wine_r = wine[wine['type'] == 'red']\n",
    "wine_w = wine[wine['type'] == 'white']\n",
    "\n",
    "wine_r.reset_index(inplace=True)\n",
    "wine_w.reset_index(inplace=True)"
   ]
  },
  {
   "cell_type": "markdown",
   "metadata": {},
   "source": [
    "* #### Create a binary target for each type of wine"
   ]
  },
  {
   "cell_type": "markdown",
   "metadata": {},
   "source": [
    "For each dataset, will specify the binary target. In this case, will be consider a good wine (high quality) if superior of the threshold. In this case will be set the threshold for: **7**"
   ]
  },
  {
   "cell_type": "code",
   "execution_count": 6,
   "metadata": {},
   "outputs": [],
   "source": [
    "# Create the binary target\n",
    "\n",
    "wine_r[\"target\"] = wine['quality'] >= 7\n",
    "wine_w[\"target\"] = wine['quality'] >= 7"
   ]
  },
  {
   "cell_type": "code",
   "execution_count": 7,
   "metadata": {},
   "outputs": [
    {
     "data": {
      "text/html": [
       "<div>\n",
       "<style scoped>\n",
       "    .dataframe tbody tr th:only-of-type {\n",
       "        vertical-align: middle;\n",
       "    }\n",
       "\n",
       "    .dataframe tbody tr th {\n",
       "        vertical-align: top;\n",
       "    }\n",
       "\n",
       "    .dataframe thead th {\n",
       "        text-align: right;\n",
       "    }\n",
       "</style>\n",
       "<table border=\"1\" class=\"dataframe\">\n",
       "  <thead>\n",
       "    <tr style=\"text-align: right;\">\n",
       "      <th></th>\n",
       "      <th>index</th>\n",
       "      <th>fixed acidity</th>\n",
       "      <th>volatile acidity</th>\n",
       "      <th>citric acid</th>\n",
       "      <th>residual sugar</th>\n",
       "      <th>chlorides</th>\n",
       "      <th>free sulfur dioxide</th>\n",
       "      <th>total sulfur dioxide</th>\n",
       "      <th>density</th>\n",
       "      <th>pH</th>\n",
       "      <th>sulphates</th>\n",
       "      <th>alcohol</th>\n",
       "      <th>quality</th>\n",
       "      <th>type</th>\n",
       "      <th>target</th>\n",
       "    </tr>\n",
       "  </thead>\n",
       "  <tbody>\n",
       "    <tr>\n",
       "      <th>1091</th>\n",
       "      <td>5989</td>\n",
       "      <td>7.9</td>\n",
       "      <td>0.34</td>\n",
       "      <td>0.42</td>\n",
       "      <td>2.0</td>\n",
       "      <td>0.086</td>\n",
       "      <td>8.0</td>\n",
       "      <td>19.0</td>\n",
       "      <td>0.99546</td>\n",
       "      <td>3.35</td>\n",
       "      <td>0.60</td>\n",
       "      <td>11.4</td>\n",
       "      <td>6</td>\n",
       "      <td>red</td>\n",
       "      <td>False</td>\n",
       "    </tr>\n",
       "    <tr>\n",
       "      <th>578</th>\n",
       "      <td>5476</td>\n",
       "      <td>8.8</td>\n",
       "      <td>0.47</td>\n",
       "      <td>0.49</td>\n",
       "      <td>2.9</td>\n",
       "      <td>0.085</td>\n",
       "      <td>17.0</td>\n",
       "      <td>110.0</td>\n",
       "      <td>0.99820</td>\n",
       "      <td>3.29</td>\n",
       "      <td>0.60</td>\n",
       "      <td>9.8</td>\n",
       "      <td>5</td>\n",
       "      <td>red</td>\n",
       "      <td>True</td>\n",
       "    </tr>\n",
       "    <tr>\n",
       "      <th>1458</th>\n",
       "      <td>6356</td>\n",
       "      <td>8.4</td>\n",
       "      <td>0.29</td>\n",
       "      <td>0.40</td>\n",
       "      <td>1.7</td>\n",
       "      <td>0.067</td>\n",
       "      <td>8.0</td>\n",
       "      <td>20.0</td>\n",
       "      <td>0.99603</td>\n",
       "      <td>3.39</td>\n",
       "      <td>0.60</td>\n",
       "      <td>10.5</td>\n",
       "      <td>5</td>\n",
       "      <td>red</td>\n",
       "      <td>False</td>\n",
       "    </tr>\n",
       "    <tr>\n",
       "      <th>713</th>\n",
       "      <td>5611</td>\n",
       "      <td>8.0</td>\n",
       "      <td>0.43</td>\n",
       "      <td>0.36</td>\n",
       "      <td>2.3</td>\n",
       "      <td>0.075</td>\n",
       "      <td>10.0</td>\n",
       "      <td>48.0</td>\n",
       "      <td>0.99760</td>\n",
       "      <td>3.34</td>\n",
       "      <td>0.46</td>\n",
       "      <td>9.4</td>\n",
       "      <td>5</td>\n",
       "      <td>red</td>\n",
       "      <td>False</td>\n",
       "    </tr>\n",
       "    <tr>\n",
       "      <th>284</th>\n",
       "      <td>5182</td>\n",
       "      <td>9.9</td>\n",
       "      <td>0.59</td>\n",
       "      <td>0.07</td>\n",
       "      <td>3.4</td>\n",
       "      <td>0.102</td>\n",
       "      <td>32.0</td>\n",
       "      <td>71.0</td>\n",
       "      <td>1.00015</td>\n",
       "      <td>3.31</td>\n",
       "      <td>0.71</td>\n",
       "      <td>9.8</td>\n",
       "      <td>5</td>\n",
       "      <td>red</td>\n",
       "      <td>False</td>\n",
       "    </tr>\n",
       "  </tbody>\n",
       "</table>\n",
       "</div>"
      ],
      "text/plain": [
       "      index  fixed acidity  volatile acidity  citric acid  residual sugar  \\\n",
       "1091   5989            7.9              0.34         0.42             2.0   \n",
       "578    5476            8.8              0.47         0.49             2.9   \n",
       "1458   6356            8.4              0.29         0.40             1.7   \n",
       "713    5611            8.0              0.43         0.36             2.3   \n",
       "284    5182            9.9              0.59         0.07             3.4   \n",
       "\n",
       "      chlorides  free sulfur dioxide  total sulfur dioxide  density    pH  \\\n",
       "1091      0.086                  8.0                  19.0  0.99546  3.35   \n",
       "578       0.085                 17.0                 110.0  0.99820  3.29   \n",
       "1458      0.067                  8.0                  20.0  0.99603  3.39   \n",
       "713       0.075                 10.0                  48.0  0.99760  3.34   \n",
       "284       0.102                 32.0                  71.0  1.00015  3.31   \n",
       "\n",
       "      sulphates  alcohol  quality type  target  \n",
       "1091       0.60     11.4        6  red   False  \n",
       "578        0.60      9.8        5  red    True  \n",
       "1458       0.60     10.5        5  red   False  \n",
       "713        0.46      9.4        5  red   False  \n",
       "284        0.71      9.8        5  red   False  "
      ]
     },
     "execution_count": 7,
     "metadata": {},
     "output_type": "execute_result"
    }
   ],
   "source": [
    "wine_r.sample(5)"
   ]
  },
  {
   "cell_type": "code",
   "execution_count": 8,
   "metadata": {},
   "outputs": [
    {
     "data": {
      "text/html": [
       "<div>\n",
       "<style scoped>\n",
       "    .dataframe tbody tr th:only-of-type {\n",
       "        vertical-align: middle;\n",
       "    }\n",
       "\n",
       "    .dataframe tbody tr th {\n",
       "        vertical-align: top;\n",
       "    }\n",
       "\n",
       "    .dataframe thead th {\n",
       "        text-align: right;\n",
       "    }\n",
       "</style>\n",
       "<table border=\"1\" class=\"dataframe\">\n",
       "  <thead>\n",
       "    <tr style=\"text-align: right;\">\n",
       "      <th></th>\n",
       "      <th>index</th>\n",
       "      <th>fixed acidity</th>\n",
       "      <th>volatile acidity</th>\n",
       "      <th>citric acid</th>\n",
       "      <th>residual sugar</th>\n",
       "      <th>chlorides</th>\n",
       "      <th>free sulfur dioxide</th>\n",
       "      <th>total sulfur dioxide</th>\n",
       "      <th>density</th>\n",
       "      <th>pH</th>\n",
       "      <th>sulphates</th>\n",
       "      <th>alcohol</th>\n",
       "      <th>quality</th>\n",
       "      <th>type</th>\n",
       "      <th>target</th>\n",
       "    </tr>\n",
       "  </thead>\n",
       "  <tbody>\n",
       "    <tr>\n",
       "      <th>359</th>\n",
       "      <td>359</td>\n",
       "      <td>6.9</td>\n",
       "      <td>0.240</td>\n",
       "      <td>0.34</td>\n",
       "      <td>4.7</td>\n",
       "      <td>0.040</td>\n",
       "      <td>43.0</td>\n",
       "      <td>161.0</td>\n",
       "      <td>0.99350</td>\n",
       "      <td>3.20</td>\n",
       "      <td>0.59</td>\n",
       "      <td>10.6</td>\n",
       "      <td>6</td>\n",
       "      <td>white</td>\n",
       "      <td>False</td>\n",
       "    </tr>\n",
       "    <tr>\n",
       "      <th>1412</th>\n",
       "      <td>1412</td>\n",
       "      <td>6.9</td>\n",
       "      <td>0.300</td>\n",
       "      <td>0.33</td>\n",
       "      <td>4.1</td>\n",
       "      <td>0.035</td>\n",
       "      <td>26.0</td>\n",
       "      <td>155.0</td>\n",
       "      <td>0.99250</td>\n",
       "      <td>3.25</td>\n",
       "      <td>0.79</td>\n",
       "      <td>12.3</td>\n",
       "      <td>8</td>\n",
       "      <td>white</td>\n",
       "      <td>True</td>\n",
       "    </tr>\n",
       "    <tr>\n",
       "      <th>3249</th>\n",
       "      <td>3249</td>\n",
       "      <td>6.4</td>\n",
       "      <td>0.230</td>\n",
       "      <td>0.35</td>\n",
       "      <td>4.6</td>\n",
       "      <td>0.039</td>\n",
       "      <td>43.0</td>\n",
       "      <td>147.0</td>\n",
       "      <td>0.99216</td>\n",
       "      <td>3.18</td>\n",
       "      <td>0.40</td>\n",
       "      <td>11.0</td>\n",
       "      <td>7</td>\n",
       "      <td>white</td>\n",
       "      <td>True</td>\n",
       "    </tr>\n",
       "    <tr>\n",
       "      <th>4611</th>\n",
       "      <td>4611</td>\n",
       "      <td>5.9</td>\n",
       "      <td>0.420</td>\n",
       "      <td>0.36</td>\n",
       "      <td>2.4</td>\n",
       "      <td>0.034</td>\n",
       "      <td>19.0</td>\n",
       "      <td>77.0</td>\n",
       "      <td>0.99184</td>\n",
       "      <td>3.25</td>\n",
       "      <td>0.48</td>\n",
       "      <td>10.9</td>\n",
       "      <td>5</td>\n",
       "      <td>white</td>\n",
       "      <td>False</td>\n",
       "    </tr>\n",
       "    <tr>\n",
       "      <th>2630</th>\n",
       "      <td>2630</td>\n",
       "      <td>5.9</td>\n",
       "      <td>0.445</td>\n",
       "      <td>0.26</td>\n",
       "      <td>1.4</td>\n",
       "      <td>0.027</td>\n",
       "      <td>23.0</td>\n",
       "      <td>109.0</td>\n",
       "      <td>0.99148</td>\n",
       "      <td>3.30</td>\n",
       "      <td>0.36</td>\n",
       "      <td>10.5</td>\n",
       "      <td>6</td>\n",
       "      <td>white</td>\n",
       "      <td>False</td>\n",
       "    </tr>\n",
       "  </tbody>\n",
       "</table>\n",
       "</div>"
      ],
      "text/plain": [
       "      index  fixed acidity  volatile acidity  citric acid  residual sugar  \\\n",
       "359     359            6.9             0.240         0.34             4.7   \n",
       "1412   1412            6.9             0.300         0.33             4.1   \n",
       "3249   3249            6.4             0.230         0.35             4.6   \n",
       "4611   4611            5.9             0.420         0.36             2.4   \n",
       "2630   2630            5.9             0.445         0.26             1.4   \n",
       "\n",
       "      chlorides  free sulfur dioxide  total sulfur dioxide  density    pH  \\\n",
       "359       0.040                 43.0                 161.0  0.99350  3.20   \n",
       "1412      0.035                 26.0                 155.0  0.99250  3.25   \n",
       "3249      0.039                 43.0                 147.0  0.99216  3.18   \n",
       "4611      0.034                 19.0                  77.0  0.99184  3.25   \n",
       "2630      0.027                 23.0                 109.0  0.99148  3.30   \n",
       "\n",
       "      sulphates  alcohol  quality   type  target  \n",
       "359        0.59     10.6        6  white   False  \n",
       "1412       0.79     12.3        8  white    True  \n",
       "3249       0.40     11.0        7  white    True  \n",
       "4611       0.48     10.9        5  white   False  \n",
       "2630       0.36     10.5        6  white   False  "
      ]
     },
     "execution_count": 8,
     "metadata": {},
     "output_type": "execute_result"
    }
   ],
   "source": [
    "wine_w.sample(5)"
   ]
  },
  {
   "cell_type": "markdown",
   "metadata": {},
   "source": [
    "* #### Standarized the features (not the quality)"
   ]
  },
  {
   "cell_type": "code",
   "execution_count": 9,
   "metadata": {},
   "outputs": [],
   "source": [
    "    # Because the \"Target\" is a result of a direct comparisson of \"Quality\", this feature will be remove.\n",
    "    # Will be remove other variables that does not belongs to the X matrix of features.\n",
    "    \n",
    "X_winered = wine_r.drop(['index','quality','type','target'],axis=1)\n",
    "X_winewhite = wine_w.drop(['index','quality','type','target'],axis=1)\n",
    "\n",
    "    # Is required to specify which is the y matrix.\n",
    "    \n",
    "y_winered = wine_r['target']\n",
    "y_winewhite = wine_w['target']"
   ]
  },
  {
   "cell_type": "markdown",
   "metadata": {},
   "source": [
    "Before to create the SVM, is necessary to standardize the features (or Independent variables). Then, split the dataset for Training either Test."
   ]
  },
  {
   "cell_type": "code",
   "execution_count": 10,
   "metadata": {},
   "outputs": [],
   "source": [
    "from sklearn import preprocessing\n",
    "\n",
    "# Standardize the features\n",
    "\n",
    "X_r_s = preprocessing.scale(X_winered)\n",
    "X_w_s = preprocessing.scale(X_winewhite)"
   ]
  },
  {
   "cell_type": "markdown",
   "metadata": {},
   "source": [
    "* #### Create two Linear SVM's for the white and red wines, repectively."
   ]
  },
  {
   "cell_type": "code",
   "execution_count": 11,
   "metadata": {},
   "outputs": [],
   "source": [
    "from sklearn.model_selection import train_test_split\n",
    "\n",
    "# Create a training and test dataset\n",
    "\n",
    "X_r_s_train, X_r_s_test, y_r_train, y_r_test = train_test_split(X_r_s, y_winered, random_state=1)\n",
    "X_w_s_train, X_w_s_test, y_w_train, y_w_test = train_test_split(X_w_s, y_winewhite, random_state=1)"
   ]
  },
  {
   "cell_type": "markdown",
   "metadata": {},
   "source": [
    "In this first approach, will be use the kernel : **linear**"
   ]
  },
  {
   "cell_type": "markdown",
   "metadata": {},
   "source": [
    "    Model for Wines type \"Red\" with kernel = Linear"
   ]
  },
  {
   "cell_type": "code",
   "execution_count": 12,
   "metadata": {},
   "outputs": [
    {
     "data": {
      "text/plain": [
       "SVC(C=1.0, cache_size=200, class_weight=None, coef0=0.0,\n",
       "  decision_function_shape='ovr', degree=3, gamma='auto', kernel='linear',\n",
       "  max_iter=-1, probability=False, random_state=None, shrinking=True,\n",
       "  tol=0.001, verbose=False)"
      ]
     },
     "execution_count": 12,
     "metadata": {},
     "output_type": "execute_result"
    }
   ],
   "source": [
    "from sklearn.svm import SVC\n",
    "\n",
    "clf_r = SVC(kernel='linear')\n",
    "clf_r.fit(X_r_s_train, y_r_train)"
   ]
  },
  {
   "cell_type": "markdown",
   "metadata": {},
   "source": [
    "     Model for Wines type \"White\" with kernel = Linear"
   ]
  },
  {
   "cell_type": "code",
   "execution_count": 13,
   "metadata": {},
   "outputs": [
    {
     "data": {
      "text/plain": [
       "SVC(C=1.0, cache_size=200, class_weight=None, coef0=0.0,\n",
       "  decision_function_shape='ovr', degree=3, gamma='auto', kernel='linear',\n",
       "  max_iter=-1, probability=False, random_state=None, shrinking=True,\n",
       "  tol=0.001, verbose=False)"
      ]
     },
     "execution_count": 13,
     "metadata": {},
     "output_type": "execute_result"
    }
   ],
   "source": [
    "clf_w = SVC(kernel='linear')\n",
    "clf_w.fit(X_w_s_train, y_w_train)"
   ]
  },
  {
   "cell_type": "markdown",
   "metadata": {},
   "source": [
    "Let´s test this new model!"
   ]
  },
  {
   "cell_type": "code",
   "execution_count": 14,
   "metadata": {},
   "outputs": [],
   "source": [
    "y_r_pred = clf_r.predict(X_r_s_test)\n",
    "y_w_pred = clf_w.predict(X_w_s_test)"
   ]
  },
  {
   "cell_type": "markdown",
   "metadata": {},
   "source": [
    "Now... let's do the math to check if the models are adequate"
   ]
  },
  {
   "cell_type": "code",
   "execution_count": 15,
   "metadata": {},
   "outputs": [
    {
     "name": "stdout",
     "output_type": "stream",
     "text": [
      "\n",
      "\n",
      "The calculated accuracy for Wines type 'Red' is: 0.7775\n",
      "The calculated accuracy for Wines type 'White' is: 0.7763\n"
     ]
    }
   ],
   "source": [
    "from sklearn import metrics\n",
    "\n",
    "Acc_Wine_r = metrics.accuracy_score(y_r_test, y_r_pred)\n",
    "Acc_Wine_w = metrics.accuracy_score(y_w_test, y_w_pred)\n",
    "\n",
    "print(\"\\n\")\n",
    "print(\"The calculated accuracy for Wines type 'Red' is: \" + str(np.round(Acc_Wine_r,decimals=4)))\n",
    "print(\"The calculated accuracy for Wines type 'White' is: \" + str(np.round(Acc_Wine_w,decimals=4)))"
   ]
  },
  {
   "cell_type": "markdown",
   "metadata": {},
   "source": [
    "# Exercise 6.3\n",
    "\n",
    "Test the two SVM's using the different kernels (‘poly’, ‘rbf’, ‘sigmoid’)\n"
   ]
  },
  {
   "cell_type": "markdown",
   "metadata": {},
   "source": [
    "Now, will be use the same technique to estimate (for each type of wine) the SVM with the following kernels:\n",
    "* poly\n",
    "* rbf\n",
    "* sigmoid\n",
    "\n",
    "The analysis will be divide in the following stages:\n",
    "1. **Model creation**\n",
    "2. **Model prediction**\n",
    "3. **Accuracy calculator**\n",
    "4. **Results comparison**"
   ]
  },
  {
   "cell_type": "markdown",
   "metadata": {},
   "source": [
    "* #### Model creation"
   ]
  },
  {
   "cell_type": "code",
   "execution_count": 16,
   "metadata": {},
   "outputs": [
    {
     "data": {
      "text/plain": [
       "SVC(C=1.0, cache_size=200, class_weight=None, coef0=0.0,\n",
       "  decision_function_shape='ovr', degree=3, gamma='auto', kernel='sigmoid',\n",
       "  max_iter=-1, probability=False, random_state=None, shrinking=True,\n",
       "  tol=0.001, verbose=False)"
      ]
     },
     "execution_count": 16,
     "metadata": {},
     "output_type": "execute_result"
    }
   ],
   "source": [
    "# Kernel = poly\n",
    "clf_r_poly = SVC(kernel='poly')\n",
    "clf_r_poly.fit(X_r_s_train, y_r_train)\n",
    "clf_w_poly = SVC(kernel='poly')\n",
    "clf_w_poly.fit(X_w_s_train, y_w_train)\n",
    "\n",
    "# Kernel = rbf\n",
    "clf_r_rbf = SVC(kernel='rbf')\n",
    "clf_r_rbf.fit(X_r_s_train, y_r_train)\n",
    "clf_w_rbf = SVC(kernel='rbf')\n",
    "clf_w_rbf.fit(X_w_s_train, y_w_train)\n",
    "\n",
    "# Kernel = sigmoid\n",
    "clf_r_sigmoid = SVC(kernel='sigmoid')\n",
    "clf_r_sigmoid.fit(X_r_s_train, y_r_train)\n",
    "clf_w_sigmoid = SVC(kernel='sigmoid')\n",
    "clf_w_sigmoid.fit(X_w_s_train, y_w_train)"
   ]
  },
  {
   "cell_type": "markdown",
   "metadata": {},
   "source": [
    "* #### Model prediction"
   ]
  },
  {
   "cell_type": "code",
   "execution_count": 17,
   "metadata": {},
   "outputs": [],
   "source": [
    "y_r_pred_poly = clf_r_poly.predict(X_r_s_test)\n",
    "y_w_pred_poly = clf_w_poly.predict(X_w_s_test)\n",
    "\n",
    "y_r_pred_rbf = clf_r_rbf.predict(X_r_s_test)\n",
    "y_w_pred_rbf = clf_w_rbf.predict(X_w_s_test)\n",
    "\n",
    "y_r_pred_sigmoid = clf_r_sigmoid.predict(X_r_s_test)\n",
    "y_w_pred_sigmoid = clf_w_sigmoid.predict(X_w_s_test)"
   ]
  },
  {
   "cell_type": "markdown",
   "metadata": {},
   "source": [
    "* #### Accuracy calculator"
   ]
  },
  {
   "cell_type": "code",
   "execution_count": 18,
   "metadata": {},
   "outputs": [],
   "source": [
    "Acc_Wine_r_poly = metrics.accuracy_score(y_r_test, y_r_pred_poly)\n",
    "Acc_Wine_w_poly = metrics.accuracy_score(y_w_test, y_w_pred_poly)\n",
    "\n",
    "Acc_Wine_r_rbf = metrics.accuracy_score(y_r_test, y_r_pred_rbf)\n",
    "Acc_Wine_w_rbf = metrics.accuracy_score(y_w_test, y_w_pred_rbf)\n",
    "\n",
    "Acc_Wine_r_sigmoid = metrics.accuracy_score(y_r_test, y_r_pred_sigmoid)\n",
    "Acc_Wine_w_sigmoid = metrics.accuracy_score(y_w_test, y_w_pred_sigmoid)"
   ]
  },
  {
   "cell_type": "markdown",
   "metadata": {},
   "source": [
    "* #### Results comparison"
   ]
  },
  {
   "cell_type": "code",
   "execution_count": 19,
   "metadata": {},
   "outputs": [
    {
     "name": "stdout",
     "output_type": "stream",
     "text": [
      "\n",
      "\n",
      "For the Wine type 'Red', the accuracy of each kernel is:\n",
      "linear: 0.7775\n",
      "poly: 0.775\n",
      "rbf: 0.7775\n",
      "sigmoid: 0.68\n",
      "\n",
      "\n",
      "For the Wine type 'White', the accuracy of each kernel is:\n",
      "linear: 0.77633\n",
      "poly: 0.80245\n",
      "rbf: 0.82449\n",
      "sigmoid: 0.73551\n",
      "\n",
      "\n"
     ]
    }
   ],
   "source": [
    "print(\"\\n\")\n",
    "\n",
    "print(\"For the Wine type 'Red', the accuracy of each kernel is:\")\n",
    "print(\"linear: \" + str(np.round(Acc_Wine_r,decimals = 5)))\n",
    "print(\"poly: \" + str(np.round(Acc_Wine_r_poly,decimals = 5)))\n",
    "print(\"rbf: \" + str(np.round(Acc_Wine_r_rbf,decimals = 5)))\n",
    "print(\"sigmoid: \" + str(np.round(Acc_Wine_r_sigmoid,decimals = 5)))\n",
    "\n",
    "print(\"\\n\")\n",
    "\n",
    "print(\"For the Wine type 'White', the accuracy of each kernel is:\")\n",
    "print(\"linear: \" + str(np.round(Acc_Wine_w,decimals = 5)))\n",
    "print(\"poly: \" + str(np.round(Acc_Wine_w_poly,decimals = 5)))\n",
    "print(\"rbf: \" + str(np.round(Acc_Wine_w_rbf,decimals = 5)))\n",
    "print(\"sigmoid: \" + str(np.round(Acc_Wine_w_sigmoid,decimals = 5)))\n",
    "\n",
    "print(\"\\n\")"
   ]
  },
  {
   "cell_type": "markdown",
   "metadata": {},
   "source": [
    "Using the result obtained above, the models with the kernel = **rbf** are the models with the highest accuracy score."
   ]
  },
  {
   "cell_type": "markdown",
   "metadata": {},
   "source": [
    "# Exercise 6.4\n",
    "Using the best SVM find the parameters that gives the best performance\n",
    "\n",
    "'C': [0.1, 1, 10, 100, 1000], 'gamma': [0.01, 0.001, 0.0001]"
   ]
  },
  {
   "cell_type": "markdown",
   "metadata": {},
   "source": [
    "According the previous result, the kernel that gives the best accuracy is **rbf**."
   ]
  },
  {
   "cell_type": "code",
   "execution_count": 20,
   "metadata": {},
   "outputs": [],
   "source": [
    "# Parameters to interate.\n",
    "\n",
    "C_param = [0.1, 1, 10, 100, 1000]\n",
    "gamma_param = [0.1, 0.01, 0.001, 0.0001]"
   ]
  },
  {
   "cell_type": "markdown",
   "metadata": {},
   "source": [
    "* #### Model for Wine : Red"
   ]
  },
  {
   "cell_type": "code",
   "execution_count": 21,
   "metadata": {},
   "outputs": [
    {
     "data": {
      "text/html": [
       "<div>\n",
       "<style scoped>\n",
       "    .dataframe tbody tr th:only-of-type {\n",
       "        vertical-align: middle;\n",
       "    }\n",
       "\n",
       "    .dataframe tbody tr th {\n",
       "        vertical-align: top;\n",
       "    }\n",
       "\n",
       "    .dataframe thead th {\n",
       "        text-align: right;\n",
       "    }\n",
       "</style>\n",
       "<table border=\"1\" class=\"dataframe\">\n",
       "  <thead>\n",
       "    <tr style=\"text-align: right;\">\n",
       "      <th></th>\n",
       "      <th>0</th>\n",
       "      <th>1</th>\n",
       "      <th>2</th>\n",
       "      <th>3</th>\n",
       "    </tr>\n",
       "  </thead>\n",
       "  <tbody>\n",
       "    <tr>\n",
       "      <th>0</th>\n",
       "      <td>0.7775</td>\n",
       "      <td>0.7775</td>\n",
       "      <td>0.7775</td>\n",
       "      <td>0.7775</td>\n",
       "    </tr>\n",
       "    <tr>\n",
       "      <th>1</th>\n",
       "      <td>0.7775</td>\n",
       "      <td>0.7775</td>\n",
       "      <td>0.7775</td>\n",
       "      <td>0.7775</td>\n",
       "    </tr>\n",
       "    <tr>\n",
       "      <th>2</th>\n",
       "      <td>0.7650</td>\n",
       "      <td>0.7775</td>\n",
       "      <td>0.7775</td>\n",
       "      <td>0.7775</td>\n",
       "    </tr>\n",
       "    <tr>\n",
       "      <th>3</th>\n",
       "      <td>0.7075</td>\n",
       "      <td>0.7750</td>\n",
       "      <td>0.7775</td>\n",
       "      <td>0.7775</td>\n",
       "    </tr>\n",
       "    <tr>\n",
       "      <th>4</th>\n",
       "      <td>0.6700</td>\n",
       "      <td>0.7650</td>\n",
       "      <td>0.7775</td>\n",
       "      <td>0.7775</td>\n",
       "    </tr>\n",
       "  </tbody>\n",
       "</table>\n",
       "</div>"
      ],
      "text/plain": [
       "        0       1       2       3\n",
       "0  0.7775  0.7775  0.7775  0.7775\n",
       "1  0.7775  0.7775  0.7775  0.7775\n",
       "2  0.7650  0.7775  0.7775  0.7775\n",
       "3  0.7075  0.7750  0.7775  0.7775\n",
       "4  0.6700  0.7650  0.7775  0.7775"
      ]
     },
     "execution_count": 21,
     "metadata": {},
     "output_type": "execute_result"
    }
   ],
   "source": [
    "R = np.zeros((len(C_param), len(gamma_param)))\n",
    "\n",
    "for i in range(len(C_param)):\n",
    "    for j in range(len(gamma_param)):\n",
    "        clfr = SVC(kernel=\"rbf\", C=C_param[i], gamma=gamma_param[j])\n",
    "        clfr.fit(X_r_s_train, y_r_train) \n",
    "        R[i,j] = metrics.accuracy_score(y_r_test, clfr.predict(X_r_s_test))\n",
    "\n",
    "Matrix_R = pd.DataFrame(R)\n",
    "Matrix_R"
   ]
  },
  {
   "cell_type": "markdown",
   "metadata": {},
   "source": [
    "* #### Model for Wine : White"
   ]
  },
  {
   "cell_type": "code",
   "execution_count": 22,
   "metadata": {},
   "outputs": [
    {
     "data": {
      "text/html": [
       "<div>\n",
       "<style scoped>\n",
       "    .dataframe tbody tr th:only-of-type {\n",
       "        vertical-align: middle;\n",
       "    }\n",
       "\n",
       "    .dataframe tbody tr th {\n",
       "        vertical-align: top;\n",
       "    }\n",
       "\n",
       "    .dataframe thead th {\n",
       "        text-align: right;\n",
       "    }\n",
       "</style>\n",
       "<table border=\"1\" class=\"dataframe\">\n",
       "  <thead>\n",
       "    <tr style=\"text-align: right;\">\n",
       "      <th></th>\n",
       "      <th>0</th>\n",
       "      <th>1</th>\n",
       "      <th>2</th>\n",
       "      <th>3</th>\n",
       "    </tr>\n",
       "  </thead>\n",
       "  <tbody>\n",
       "    <tr>\n",
       "      <th>0</th>\n",
       "      <td>0.799184</td>\n",
       "      <td>0.776327</td>\n",
       "      <td>0.776327</td>\n",
       "      <td>0.776327</td>\n",
       "    </tr>\n",
       "    <tr>\n",
       "      <th>1</th>\n",
       "      <td>0.823673</td>\n",
       "      <td>0.782857</td>\n",
       "      <td>0.776327</td>\n",
       "      <td>0.776327</td>\n",
       "    </tr>\n",
       "    <tr>\n",
       "      <th>2</th>\n",
       "      <td>0.835918</td>\n",
       "      <td>0.812245</td>\n",
       "      <td>0.776327</td>\n",
       "      <td>0.776327</td>\n",
       "    </tr>\n",
       "    <tr>\n",
       "      <th>3</th>\n",
       "      <td>0.844082</td>\n",
       "      <td>0.824490</td>\n",
       "      <td>0.791837</td>\n",
       "      <td>0.776327</td>\n",
       "    </tr>\n",
       "    <tr>\n",
       "      <th>4</th>\n",
       "      <td>0.844082</td>\n",
       "      <td>0.823673</td>\n",
       "      <td>0.808980</td>\n",
       "      <td>0.776327</td>\n",
       "    </tr>\n",
       "  </tbody>\n",
       "</table>\n",
       "</div>"
      ],
      "text/plain": [
       "          0         1         2         3\n",
       "0  0.799184  0.776327  0.776327  0.776327\n",
       "1  0.823673  0.782857  0.776327  0.776327\n",
       "2  0.835918  0.812245  0.776327  0.776327\n",
       "3  0.844082  0.824490  0.791837  0.776327\n",
       "4  0.844082  0.823673  0.808980  0.776327"
      ]
     },
     "execution_count": 22,
     "metadata": {},
     "output_type": "execute_result"
    }
   ],
   "source": [
    "W = np.zeros((len(C_param), len(gamma_param)))\n",
    "\n",
    "for i in range(len(C_param)):\n",
    "    for j in range(len(gamma_param)):\n",
    "        clfw = SVC(kernel=\"rbf\", C=C_param[i], gamma=gamma_param[j])\n",
    "        clfw.fit(X_w_s_train, y_w_train) \n",
    "        W[i,j] = metrics.accuracy_score(y_w_test, clfw.predict(X_w_s_test))\n",
    "\n",
    "Matrix_W = pd.DataFrame(W)\n",
    "Matrix_W       "
   ]
  },
  {
   "cell_type": "code",
   "execution_count": 23,
   "metadata": {},
   "outputs": [],
   "source": [
    "import matplotlib.pyplot as plt\n",
    "\n",
    "f, (ax1, ax2) = plt.subplots(1,2, figsize=(16, 8))\n",
    "\n",
    "Ax1 = ax1.matshow(Matrix_R, cmap=plt.cm.Reds)\n",
    "ax1.set_title('Accuracy - Wine Red')\n",
    "ax1.set_xlabel('Gamma parameter')\n",
    "ax1.set_ylabel('C parameter')\n",
    "ax1.set_xticks(np.arange(len(gamma_param)))\n",
    "ax1.set_yticks(np.arange(len(C_param)))\n",
    "ax1.set_xticklabels(gamma_param)\n",
    "ax1.set_yticklabels(C_param)\n",
    "\n",
    "\n",
    "Ax2 = ax2.matshow(Matrix_W, cmap=plt.cm.Blues)\n",
    "ax2.set_title('Accuracy - Wine White')\n",
    "ax2.set_xlabel('Gamma parameter')\n",
    "ax2.set_ylabel('C parameter')\n",
    "ax2.set_xticks(np.arange(len(gamma_param)))\n",
    "ax2.set_yticks(np.arange(len(C_param)))\n",
    "ax2.set_xticklabels(gamma_param)\n",
    "ax2.set_yticklabels(C_param)\n",
    "\n",
    "f.colorbar(Ax2)\n",
    "f.colorbar(Ax1)\n",
    "\n",
    "f.show()"
   ]
  },
  {
   "cell_type": "markdown",
   "metadata": {},
   "source": [
    "The accuracy depends of the model!  Is a fact that between a hight C and a lower Gamma, the accuracy can be improved, not necessary will implies the best model."
   ]
  },
  {
   "cell_type": "markdown",
   "metadata": {},
   "source": [
    "# Exercise 6.5\n",
    "\n",
    "Compare the results with other methods"
   ]
  },
  {
   "cell_type": "markdown",
   "metadata": {},
   "source": [
    "In order to compare the results, will be create a logistic regression."
   ]
  },
  {
   "cell_type": "markdown",
   "metadata": {},
   "source": [
    "* Logistic model for Wine : Red"
   ]
  },
  {
   "cell_type": "code",
   "execution_count": 24,
   "metadata": {},
   "outputs": [
    {
     "data": {
      "text/plain": [
       "LogisticRegression(C=1000000000.0, class_weight=None, dual=False,\n",
       "          fit_intercept=True, intercept_scaling=1, max_iter=100,\n",
       "          multi_class='ovr', n_jobs=1, penalty='l2', random_state=None,\n",
       "          solver='liblinear', tol=0.0001, verbose=0, warm_start=False)"
      ]
     },
     "execution_count": 24,
     "metadata": {},
     "output_type": "execute_result"
    }
   ],
   "source": [
    "from sklearn.linear_model import LogisticRegression\n",
    "\n",
    "logreg_r = LogisticRegression(C=1e9,solver='liblinear',multi_class='ovr')\n",
    "logreg_r.fit(X_r_s_train, y_r_train)"
   ]
  },
  {
   "cell_type": "markdown",
   "metadata": {},
   "source": [
    "* Logistic model for Wine : White"
   ]
  },
  {
   "cell_type": "code",
   "execution_count": 25,
   "metadata": {},
   "outputs": [
    {
     "data": {
      "text/plain": [
       "LogisticRegression(C=1000000000.0, class_weight=None, dual=False,\n",
       "          fit_intercept=True, intercept_scaling=1, max_iter=100,\n",
       "          multi_class='ovr', n_jobs=1, penalty='l2', random_state=None,\n",
       "          solver='liblinear', tol=0.0001, verbose=0, warm_start=False)"
      ]
     },
     "execution_count": 25,
     "metadata": {},
     "output_type": "execute_result"
    }
   ],
   "source": [
    "logreg_w = LogisticRegression(C=1e9,solver='liblinear',multi_class='ovr')\n",
    "logreg_w.fit(X_w_s_train, y_w_train)"
   ]
  },
  {
   "cell_type": "markdown",
   "metadata": {},
   "source": [
    "* #### Accuracy calculator and results"
   ]
  },
  {
   "cell_type": "markdown",
   "metadata": {},
   "source": [
    "* Comparisson for Wine : Red"
   ]
  },
  {
   "cell_type": "code",
   "execution_count": 26,
   "metadata": {},
   "outputs": [
    {
     "name": "stdout",
     "output_type": "stream",
     "text": [
      "Comparisson for Wine : Red\n",
      "\n",
      "\n",
      "Accuracy for a Logistic model: \n",
      "0.7775\n",
      "\n",
      "\n",
      "Worst accuracy for a linear model: \n",
      "0.67\n",
      "\n",
      "\n",
      "Best accuracy for a linear model: \n",
      "0.7775\n"
     ]
    }
   ],
   "source": [
    "print(\"Comparisson for Wine : Red\")\n",
    "print(\"\\n\")\n",
    "\n",
    "print(\"Accuracy for a Logistic model: \")\n",
    "print(np.round(metrics.accuracy_score(y_r_test, logreg_r.predict(X_r_s_test)), decimals=4))\n",
    "\n",
    "print(\"\\n\")\n",
    "print(\"Worst accuracy for a linear model: \")\n",
    "print(np.round(Matrix_R.min().min(), decimals=4))\n",
    "\n",
    "print(\"\\n\")\n",
    "print(\"Best accuracy for a linear model: \")\n",
    "print(np.round(Matrix_R.max().max(), decimals=4))"
   ]
  },
  {
   "cell_type": "markdown",
   "metadata": {},
   "source": [
    "* Comparisson for Wine : White"
   ]
  },
  {
   "cell_type": "code",
   "execution_count": 27,
   "metadata": {},
   "outputs": [
    {
     "name": "stdout",
     "output_type": "stream",
     "text": [
      "Comparisson for Wine : White\n",
      "\n",
      "\n",
      "Accuracy for a Logistic model: \n",
      "0.7951\n",
      "\n",
      "\n",
      "Worst accuracy for a linear model: \n",
      "0.7763\n",
      "\n",
      "\n",
      "Best accuracy for a linear model: \n",
      "0.8441\n"
     ]
    }
   ],
   "source": [
    "print(\"Comparisson for Wine : White\")\n",
    "print(\"\\n\")\n",
    "\n",
    "print(\"Accuracy for a Logistic model: \")\n",
    "print(np.round(metrics.accuracy_score(y_w_test, logreg_w.predict(X_w_s_test)), decimals=4))\n",
    "\n",
    "print(\"\\n\")\n",
    "print(\"Worst accuracy for a linear model: \")\n",
    "print(np.round(Matrix_W.min().min(), decimals=4))\n",
    "\n",
    "print(\"\\n\")\n",
    "print(\"Best accuracy for a linear model: \")\n",
    "print(np.round(Matrix_W.max().max(), decimals=4))"
   ]
  },
  {
   "cell_type": "markdown",
   "metadata": {},
   "source": [
    "That means that the Logistic model have a good approximation in comparisson to the best linear model obtained modifying the parameters C and gamma"
   ]
  },
  {
   "cell_type": "markdown",
   "metadata": {},
   "source": [
    "# Regularization"
   ]
  },
  {
   "cell_type": "markdown",
   "metadata": {},
   "source": [
    "# Exercise 6.6\n",
    "\n",
    "\n",
    "* Train a linear regression to predict wine quality (Continous)\n",
    "\n",
    "* Analyze the coefficients\n",
    "\n",
    "* Evaluate the RMSE"
   ]
  },
  {
   "cell_type": "markdown",
   "metadata": {},
   "source": [
    "* #### Train a *linear* regression to predict wine quality (Continous)"
   ]
  },
  {
   "cell_type": "markdown",
   "metadata": {},
   "source": [
    "From the **Exercise 6.2**, we should clean and standardize the features."
   ]
  },
  {
   "cell_type": "code",
   "execution_count": 28,
   "metadata": {},
   "outputs": [],
   "source": [
    "# Create a new dataset that won't impact with the data analysis made in the exercises above.\n",
    "\n",
    "wine66 = data\n",
    "\n",
    "wine66_r = wine66[wine66['type'] == 'red']\n",
    "wine66_w = wine66[wine66['type'] == 'white']\n",
    "\n",
    "wine66_r.reset_index(inplace=True)\n",
    "wine66_w.reset_index(inplace=True)"
   ]
  },
  {
   "cell_type": "code",
   "execution_count": 29,
   "metadata": {},
   "outputs": [
    {
     "data": {
      "text/html": [
       "<div>\n",
       "<style scoped>\n",
       "    .dataframe tbody tr th:only-of-type {\n",
       "        vertical-align: middle;\n",
       "    }\n",
       "\n",
       "    .dataframe tbody tr th {\n",
       "        vertical-align: top;\n",
       "    }\n",
       "\n",
       "    .dataframe thead th {\n",
       "        text-align: right;\n",
       "    }\n",
       "</style>\n",
       "<table border=\"1\" class=\"dataframe\">\n",
       "  <thead>\n",
       "    <tr style=\"text-align: right;\">\n",
       "      <th></th>\n",
       "      <th>index</th>\n",
       "      <th>fixed acidity</th>\n",
       "      <th>volatile acidity</th>\n",
       "      <th>citric acid</th>\n",
       "      <th>residual sugar</th>\n",
       "      <th>chlorides</th>\n",
       "      <th>free sulfur dioxide</th>\n",
       "      <th>total sulfur dioxide</th>\n",
       "      <th>density</th>\n",
       "      <th>pH</th>\n",
       "      <th>sulphates</th>\n",
       "      <th>alcohol</th>\n",
       "      <th>quality</th>\n",
       "      <th>type</th>\n",
       "    </tr>\n",
       "  </thead>\n",
       "  <tbody>\n",
       "    <tr>\n",
       "      <th>0</th>\n",
       "      <td>4898</td>\n",
       "      <td>7.4</td>\n",
       "      <td>0.70</td>\n",
       "      <td>0.00</td>\n",
       "      <td>1.9</td>\n",
       "      <td>0.076</td>\n",
       "      <td>11.0</td>\n",
       "      <td>34.0</td>\n",
       "      <td>0.9978</td>\n",
       "      <td>3.51</td>\n",
       "      <td>0.56</td>\n",
       "      <td>9.4</td>\n",
       "      <td>5</td>\n",
       "      <td>red</td>\n",
       "    </tr>\n",
       "    <tr>\n",
       "      <th>1</th>\n",
       "      <td>4899</td>\n",
       "      <td>7.8</td>\n",
       "      <td>0.88</td>\n",
       "      <td>0.00</td>\n",
       "      <td>2.6</td>\n",
       "      <td>0.098</td>\n",
       "      <td>25.0</td>\n",
       "      <td>67.0</td>\n",
       "      <td>0.9968</td>\n",
       "      <td>3.20</td>\n",
       "      <td>0.68</td>\n",
       "      <td>9.8</td>\n",
       "      <td>5</td>\n",
       "      <td>red</td>\n",
       "    </tr>\n",
       "    <tr>\n",
       "      <th>2</th>\n",
       "      <td>4900</td>\n",
       "      <td>7.8</td>\n",
       "      <td>0.76</td>\n",
       "      <td>0.04</td>\n",
       "      <td>2.3</td>\n",
       "      <td>0.092</td>\n",
       "      <td>15.0</td>\n",
       "      <td>54.0</td>\n",
       "      <td>0.9970</td>\n",
       "      <td>3.26</td>\n",
       "      <td>0.65</td>\n",
       "      <td>9.8</td>\n",
       "      <td>5</td>\n",
       "      <td>red</td>\n",
       "    </tr>\n",
       "    <tr>\n",
       "      <th>3</th>\n",
       "      <td>4901</td>\n",
       "      <td>11.2</td>\n",
       "      <td>0.28</td>\n",
       "      <td>0.56</td>\n",
       "      <td>1.9</td>\n",
       "      <td>0.075</td>\n",
       "      <td>17.0</td>\n",
       "      <td>60.0</td>\n",
       "      <td>0.9980</td>\n",
       "      <td>3.16</td>\n",
       "      <td>0.58</td>\n",
       "      <td>9.8</td>\n",
       "      <td>6</td>\n",
       "      <td>red</td>\n",
       "    </tr>\n",
       "    <tr>\n",
       "      <th>4</th>\n",
       "      <td>4902</td>\n",
       "      <td>7.4</td>\n",
       "      <td>0.70</td>\n",
       "      <td>0.00</td>\n",
       "      <td>1.9</td>\n",
       "      <td>0.076</td>\n",
       "      <td>11.0</td>\n",
       "      <td>34.0</td>\n",
       "      <td>0.9978</td>\n",
       "      <td>3.51</td>\n",
       "      <td>0.56</td>\n",
       "      <td>9.4</td>\n",
       "      <td>5</td>\n",
       "      <td>red</td>\n",
       "    </tr>\n",
       "  </tbody>\n",
       "</table>\n",
       "</div>"
      ],
      "text/plain": [
       "   index  fixed acidity  volatile acidity  citric acid  residual sugar  \\\n",
       "0   4898            7.4              0.70         0.00             1.9   \n",
       "1   4899            7.8              0.88         0.00             2.6   \n",
       "2   4900            7.8              0.76         0.04             2.3   \n",
       "3   4901           11.2              0.28         0.56             1.9   \n",
       "4   4902            7.4              0.70         0.00             1.9   \n",
       "\n",
       "   chlorides  free sulfur dioxide  total sulfur dioxide  density    pH  \\\n",
       "0      0.076                 11.0                  34.0   0.9978  3.51   \n",
       "1      0.098                 25.0                  67.0   0.9968  3.20   \n",
       "2      0.092                 15.0                  54.0   0.9970  3.26   \n",
       "3      0.075                 17.0                  60.0   0.9980  3.16   \n",
       "4      0.076                 11.0                  34.0   0.9978  3.51   \n",
       "\n",
       "   sulphates  alcohol  quality type  \n",
       "0       0.56      9.4        5  red  \n",
       "1       0.68      9.8        5  red  \n",
       "2       0.65      9.8        5  red  \n",
       "3       0.58      9.8        6  red  \n",
       "4       0.56      9.4        5  red  "
      ]
     },
     "execution_count": 29,
     "metadata": {},
     "output_type": "execute_result"
    }
   ],
   "source": [
    "wine66_r.head()"
   ]
  },
  {
   "cell_type": "code",
   "execution_count": 30,
   "metadata": {},
   "outputs": [
    {
     "data": {
      "text/html": [
       "<div>\n",
       "<style scoped>\n",
       "    .dataframe tbody tr th:only-of-type {\n",
       "        vertical-align: middle;\n",
       "    }\n",
       "\n",
       "    .dataframe tbody tr th {\n",
       "        vertical-align: top;\n",
       "    }\n",
       "\n",
       "    .dataframe thead th {\n",
       "        text-align: right;\n",
       "    }\n",
       "</style>\n",
       "<table border=\"1\" class=\"dataframe\">\n",
       "  <thead>\n",
       "    <tr style=\"text-align: right;\">\n",
       "      <th></th>\n",
       "      <th>index</th>\n",
       "      <th>fixed acidity</th>\n",
       "      <th>volatile acidity</th>\n",
       "      <th>citric acid</th>\n",
       "      <th>residual sugar</th>\n",
       "      <th>chlorides</th>\n",
       "      <th>free sulfur dioxide</th>\n",
       "      <th>total sulfur dioxide</th>\n",
       "      <th>density</th>\n",
       "      <th>pH</th>\n",
       "      <th>sulphates</th>\n",
       "      <th>alcohol</th>\n",
       "      <th>quality</th>\n",
       "      <th>type</th>\n",
       "    </tr>\n",
       "  </thead>\n",
       "  <tbody>\n",
       "    <tr>\n",
       "      <th>0</th>\n",
       "      <td>0</td>\n",
       "      <td>7.0</td>\n",
       "      <td>0.27</td>\n",
       "      <td>0.36</td>\n",
       "      <td>20.7</td>\n",
       "      <td>0.045</td>\n",
       "      <td>45.0</td>\n",
       "      <td>170.0</td>\n",
       "      <td>1.0010</td>\n",
       "      <td>3.00</td>\n",
       "      <td>0.45</td>\n",
       "      <td>8.8</td>\n",
       "      <td>6</td>\n",
       "      <td>white</td>\n",
       "    </tr>\n",
       "    <tr>\n",
       "      <th>1</th>\n",
       "      <td>1</td>\n",
       "      <td>6.3</td>\n",
       "      <td>0.30</td>\n",
       "      <td>0.34</td>\n",
       "      <td>1.6</td>\n",
       "      <td>0.049</td>\n",
       "      <td>14.0</td>\n",
       "      <td>132.0</td>\n",
       "      <td>0.9940</td>\n",
       "      <td>3.30</td>\n",
       "      <td>0.49</td>\n",
       "      <td>9.5</td>\n",
       "      <td>6</td>\n",
       "      <td>white</td>\n",
       "    </tr>\n",
       "    <tr>\n",
       "      <th>2</th>\n",
       "      <td>2</td>\n",
       "      <td>8.1</td>\n",
       "      <td>0.28</td>\n",
       "      <td>0.40</td>\n",
       "      <td>6.9</td>\n",
       "      <td>0.050</td>\n",
       "      <td>30.0</td>\n",
       "      <td>97.0</td>\n",
       "      <td>0.9951</td>\n",
       "      <td>3.26</td>\n",
       "      <td>0.44</td>\n",
       "      <td>10.1</td>\n",
       "      <td>6</td>\n",
       "      <td>white</td>\n",
       "    </tr>\n",
       "    <tr>\n",
       "      <th>3</th>\n",
       "      <td>3</td>\n",
       "      <td>7.2</td>\n",
       "      <td>0.23</td>\n",
       "      <td>0.32</td>\n",
       "      <td>8.5</td>\n",
       "      <td>0.058</td>\n",
       "      <td>47.0</td>\n",
       "      <td>186.0</td>\n",
       "      <td>0.9956</td>\n",
       "      <td>3.19</td>\n",
       "      <td>0.40</td>\n",
       "      <td>9.9</td>\n",
       "      <td>6</td>\n",
       "      <td>white</td>\n",
       "    </tr>\n",
       "    <tr>\n",
       "      <th>4</th>\n",
       "      <td>4</td>\n",
       "      <td>7.2</td>\n",
       "      <td>0.23</td>\n",
       "      <td>0.32</td>\n",
       "      <td>8.5</td>\n",
       "      <td>0.058</td>\n",
       "      <td>47.0</td>\n",
       "      <td>186.0</td>\n",
       "      <td>0.9956</td>\n",
       "      <td>3.19</td>\n",
       "      <td>0.40</td>\n",
       "      <td>9.9</td>\n",
       "      <td>6</td>\n",
       "      <td>white</td>\n",
       "    </tr>\n",
       "  </tbody>\n",
       "</table>\n",
       "</div>"
      ],
      "text/plain": [
       "   index  fixed acidity  volatile acidity  citric acid  residual sugar  \\\n",
       "0      0            7.0              0.27         0.36            20.7   \n",
       "1      1            6.3              0.30         0.34             1.6   \n",
       "2      2            8.1              0.28         0.40             6.9   \n",
       "3      3            7.2              0.23         0.32             8.5   \n",
       "4      4            7.2              0.23         0.32             8.5   \n",
       "\n",
       "   chlorides  free sulfur dioxide  total sulfur dioxide  density    pH  \\\n",
       "0      0.045                 45.0                 170.0   1.0010  3.00   \n",
       "1      0.049                 14.0                 132.0   0.9940  3.30   \n",
       "2      0.050                 30.0                  97.0   0.9951  3.26   \n",
       "3      0.058                 47.0                 186.0   0.9956  3.19   \n",
       "4      0.058                 47.0                 186.0   0.9956  3.19   \n",
       "\n",
       "   sulphates  alcohol  quality   type  \n",
       "0       0.45      8.8        6  white  \n",
       "1       0.49      9.5        6  white  \n",
       "2       0.44     10.1        6  white  \n",
       "3       0.40      9.9        6  white  \n",
       "4       0.40      9.9        6  white  "
      ]
     },
     "execution_count": 30,
     "metadata": {},
     "output_type": "execute_result"
    }
   ],
   "source": [
    "wine66_w.head()"
   ]
  },
  {
   "cell_type": "markdown",
   "metadata": {},
   "source": [
    "In order to train the linear regression model, the dataset will split in:\n",
    "* X matrix for independent variables\n",
    "* y matrix for dependent variable"
   ]
  },
  {
   "cell_type": "code",
   "execution_count": 31,
   "metadata": {},
   "outputs": [],
   "source": [
    "X_wine66_red = wine66_r.drop(['index','quality','type'],axis=1)\n",
    "X_wine66_white = wine66_w.drop(['index','quality','type'],axis=1)\n",
    "\n",
    "y_wine66_red = wine66_r['quality']\n",
    "y_wine66_white = wine66_w['quality']"
   ]
  },
  {
   "cell_type": "markdown",
   "metadata": {},
   "source": [
    "Before to train the linear regression model, is required to standardize the features."
   ]
  },
  {
   "cell_type": "code",
   "execution_count": 32,
   "metadata": {},
   "outputs": [],
   "source": [
    "# Standardize the features\n",
    "\n",
    "X66_r_s = preprocessing.scale(X_winered)\n",
    "X66_w_s = preprocessing.scale(X_winewhite)"
   ]
  },
  {
   "cell_type": "code",
   "execution_count": 33,
   "metadata": {},
   "outputs": [],
   "source": [
    "# Create a training and test dataset\n",
    "\n",
    "X_r_train, X_r_test, y_r_train, y_r_test = train_test_split(X66_r_s, y_wine66_red, random_state=1)\n",
    "X_w_train, X_w_test, y_w_train, y_w_test = train_test_split(X66_w_s, y_wine66_white, random_state=1)\n",
    "\n",
    "    # Normalized\n",
    "X_r_s_train, X_r_s_test, y_r_s_train, y_r_s_test = train_test_split(X66_r_s, y_wine66_red, random_state=1)\n",
    "X_w_s_train, X_w_s_test, y_w_s_train, y_w_s_test = train_test_split(X66_w_s, y_wine66_white, random_state=1)"
   ]
  },
  {
   "cell_type": "markdown",
   "metadata": {},
   "source": [
    "... Creating a Linear model using *sklearn*"
   ]
  },
  {
   "cell_type": "code",
   "execution_count": 34,
   "metadata": {},
   "outputs": [],
   "source": [
    "from sklearn.linear_model import LinearRegression"
   ]
  },
  {
   "cell_type": "markdown",
   "metadata": {},
   "source": [
    "* #### Linear model for wines type: \"Red\""
   ]
  },
  {
   "cell_type": "code",
   "execution_count": 35,
   "metadata": {},
   "outputs": [
    {
     "data": {
      "text/plain": [
       "LinearRegression(copy_X=True, fit_intercept=True, n_jobs=1, normalize=False)"
      ]
     },
     "execution_count": 35,
     "metadata": {},
     "output_type": "execute_result"
    }
   ],
   "source": [
    "linreg_r = LinearRegression()\n",
    "linreg_r.fit(X_r_s_train, y_r_s_train)"
   ]
  },
  {
   "cell_type": "markdown",
   "metadata": {},
   "source": [
    "* #### Linear model for wines type: \"White\""
   ]
  },
  {
   "cell_type": "code",
   "execution_count": 36,
   "metadata": {},
   "outputs": [
    {
     "data": {
      "text/plain": [
       "LinearRegression(copy_X=True, fit_intercept=True, n_jobs=1, normalize=False)"
      ]
     },
     "execution_count": 36,
     "metadata": {},
     "output_type": "execute_result"
    }
   ],
   "source": [
    "linreg_w = LinearRegression()\n",
    "linreg_w.fit(X_w_s_train, y_w_s_train)"
   ]
  },
  {
   "cell_type": "markdown",
   "metadata": {},
   "source": [
    "* #### Analyze the coefficients"
   ]
  },
  {
   "cell_type": "code",
   "execution_count": 37,
   "metadata": {},
   "outputs": [
    {
     "data": {
      "image/png": "[encoded data removed]",
      "text/plain": [
       "<Figure size 432x288 with 1 Axes>"
      ]
     },
     "metadata": {
      "needs_background": "light"
     },
     "output_type": "display_data"
    }
   ],
   "source": [
    "LinMod = pd.DataFrame()\n",
    "LinMod[0] = linreg_r.coef_\n",
    "LinMod[1] = linreg_w.coef_\n",
    "\n",
    "plt.plot(LinMod[0], marker='o', markersize=5, color='red')\n",
    "plt.plot(LinMod[1], marker='o', markersize=5)\n",
    "plt.title('Coefficient comparison between wine types')\n",
    "plt.ylabel('Coefficients')\n",
    "plt.xlabel('Variables')\n",
    "plt.xticks(np.arange(len(X_winered.columns)), X_winered.columns, rotation=90 )\n",
    "plt.legend(('Wine: Red', 'Wine: White'),loc='lower right')\n",
    "plt.show()"
   ]
  },
  {
   "cell_type": "markdown",
   "metadata": {},
   "source": [
    "As a result of this model, is important to highlight the following:\n",
    "\n",
    "* For both type of wines, the following are the most relevant caractheristics in order to determinate a good wine:\n",
    "    * sulphates\n",
    "    * alcohol\n",
    "    \n",
    "    \n",
    "* For both type of wines, the following are the less relevant caractheristic in order to determinate a good wine:\n",
    "    * volatile acidity\n",
    "    \n",
    "    \n",
    "* For the wines \"white\" the most relevant item in order to determinate the quality is:\n",
    "    * Residual sugar \n",
    "\n",
    "\n",
    "* For the wines \"white\" the less relevant item in order to determinate the quality is:\n",
    "    * density"
   ]
  },
  {
   "cell_type": "markdown",
   "metadata": {},
   "source": [
    "* #### Evaluate the RMSE"
   ]
  },
  {
   "cell_type": "markdown",
   "metadata": {},
   "source": [
    "In order to calculate the RMSE, we requires to calculate the prediction with the test dataset for each type of wine and compare with the correct result."
   ]
  },
  {
   "cell_type": "code",
   "execution_count": 38,
   "metadata": {},
   "outputs": [
    {
     "name": "stdout",
     "output_type": "stream",
     "text": [
      "The RMSE of the linear models for each type of wine is: \n",
      "\n",
      "\n",
      "Wine type RED is: 0.62176\n",
      "Wine type WHITE is: 0.73006\n"
     ]
    }
   ],
   "source": [
    "# RMSE calculation\n",
    "\n",
    "RMSE_r_linear_reg = np.sqrt(metrics.mean_squared_error(y_r_s_test, linreg_r.predict(X_r_s_test)))\n",
    "RMSE_w_linear_reg = np.sqrt(metrics.mean_squared_error(y_w_s_test, linreg_w.predict(X_w_s_test)))\n",
    "\n",
    "print(\"The RMSE of the linear models for each type of wine is: \")\n",
    "print(\"\\n\")\n",
    "print(\"Wine type RED is: \"+ str(np.round(RMSE_r_linear_reg, decimals = 5)))\n",
    "print(\"Wine type WHITE is: \"+ str(np.round(RMSE_w_linear_reg, decimals = 5)))"
   ]
  },
  {
   "cell_type": "markdown",
   "metadata": {},
   "source": [
    "# Exercise 6.7\n",
    "\n",
    "* Estimate a ridge regression with alpha equals 0.1 and 1.\n",
    "* Compare the coefficients with the linear regression\n",
    "* Evaluate the RMSE"
   ]
  },
  {
   "cell_type": "markdown",
   "metadata": {},
   "source": [
    "* #### Estimate a ridge regression with alpha equals 0.1 and 1."
   ]
  },
  {
   "cell_type": "markdown",
   "metadata": {},
   "source": [
    "In order to make the results comparable, will be use the same dataset for training and test (without standarzide).\n",
    "\n",
    "The dataset to be use, will be:\n",
    "\n",
    "#### Independent variables\n",
    "\n",
    "* ***Training purpose***\n",
    "    * wine66_r_training\n",
    "    * wine66_w_training\n",
    "* ***Test purpose***\n",
    "    * wine66_r_test\n",
    "    * wine66_w_test\n",
    "\n",
    "#### Dependent variables\n",
    "\n",
    "* ***Training purpose***\n",
    "    * y_r\n",
    "    * y_w\n",
    "* ***Test purpose***\n",
    "    * y66_r_p\n",
    "    * y66_w_p"
   ]
  },
  {
   "cell_type": "code",
   "execution_count": 39,
   "metadata": {},
   "outputs": [],
   "source": [
    "from sklearn.linear_model import Ridge"
   ]
  },
  {
   "cell_type": "markdown",
   "metadata": {},
   "source": [
    "### With: $\\alpha = 0.1$"
   ]
  },
  {
   "cell_type": "markdown",
   "metadata": {},
   "source": [
    "1. #### Ridge model for wines type: \"Red\""
   ]
  },
  {
   "cell_type": "code",
   "execution_count": 40,
   "metadata": {},
   "outputs": [
    {
     "data": {
      "text/plain": [
       "array([ 0.06286371, -0.18622534, -0.012416  ,  0.02394328, -0.08110505,\n",
       "        0.03848472, -0.10525858, -0.07605435, -0.04317083,  0.13816317,\n",
       "        0.25082262])"
      ]
     },
     "execution_count": 40,
     "metadata": {},
     "output_type": "execute_result"
    }
   ],
   "source": [
    "ridgereg_r01 = Ridge(alpha=0.1, normalize=True)\n",
    "ridgereg_r01.fit(X_r_train, y_r_train)\n",
    "ridgereg_r01.coef_"
   ]
  },
  {
   "cell_type": "markdown",
   "metadata": {},
   "source": [
    "2. #### Ridge model for wines type: \"White\""
   ]
  },
  {
   "cell_type": "code",
   "execution_count": 41,
   "metadata": {},
   "outputs": [
    {
     "data": {
      "text/plain": [
       "array([-0.01832305, -0.17868556,  0.00332953,  0.175281  , -0.04110753,\n",
       "        0.06135738, -0.02330528, -0.14001362,  0.04548148,  0.04368789,\n",
       "        0.31840358])"
      ]
     },
     "execution_count": 41,
     "metadata": {},
     "output_type": "execute_result"
    }
   ],
   "source": [
    "ridgereg_w01 = Ridge(alpha=0.1, normalize=True)\n",
    "ridgereg_w01.fit(X_w_train, y_w_train)\n",
    "ridgereg_w01.coef_"
   ]
  },
  {
   "cell_type": "markdown",
   "metadata": {},
   "source": [
    "### With: $\\alpha = 1$"
   ]
  },
  {
   "cell_type": "markdown",
   "metadata": {},
   "source": [
    "1. #### Ridge model for wines type: \"Red\""
   ]
  },
  {
   "cell_type": "code",
   "execution_count": 42,
   "metadata": {},
   "outputs": [
    {
     "data": {
      "text/plain": [
       "array([ 0.03069975, -0.11717229,  0.03744883,  0.01001993, -0.04930449,\n",
       "        0.00380574, -0.05881262, -0.05956891, -0.0153926 ,  0.0806392 ,\n",
       "        0.15192335])"
      ]
     },
     "execution_count": 42,
     "metadata": {},
     "output_type": "execute_result"
    }
   ],
   "source": [
    "ridgereg_r1 = Ridge(alpha=1, normalize=True)\n",
    "ridgereg_r1.fit(X_r_train, y_r_train)\n",
    "ridgereg_r1.coef_"
   ]
  },
  {
   "cell_type": "markdown",
   "metadata": {},
   "source": [
    "2. #### Ridge model for wines type: \"White\""
   ]
  },
  {
   "cell_type": "code",
   "execution_count": 43,
   "metadata": {},
   "outputs": [
    {
     "data": {
      "text/plain": [
       "array([-0.02610017, -0.09119149,  0.00712546,  0.03369428, -0.05619761,\n",
       "        0.03108778, -0.02881895, -0.07152769,  0.02573261,  0.02353068,\n",
       "        0.16073028])"
      ]
     },
     "execution_count": 43,
     "metadata": {},
     "output_type": "execute_result"
    }
   ],
   "source": [
    "ridgereg_w1 = Ridge(alpha=1, normalize=True)\n",
    "ridgereg_w1.fit(X_w_train, y_w_train)\n",
    "ridgereg_w1.coef_"
   ]
  },
  {
   "cell_type": "markdown",
   "metadata": {},
   "source": [
    "* #### Compare the coefficients with the linear regression"
   ]
  },
  {
   "cell_type": "markdown",
   "metadata": {},
   "source": [
    "1. ### Wine type: Red"
   ]
  },
  {
   "cell_type": "code",
   "execution_count": 44,
   "metadata": {},
   "outputs": [
    {
     "data": {
      "text/html": [
       "<div>\n",
       "<style scoped>\n",
       "    .dataframe tbody tr th:only-of-type {\n",
       "        vertical-align: middle;\n",
       "    }\n",
       "\n",
       "    .dataframe tbody tr th {\n",
       "        vertical-align: top;\n",
       "    }\n",
       "\n",
       "    .dataframe thead th {\n",
       "        text-align: right;\n",
       "    }\n",
       "</style>\n",
       "<table border=\"1\" class=\"dataframe\">\n",
       "  <thead>\n",
       "    <tr style=\"text-align: right;\">\n",
       "      <th></th>\n",
       "      <th>Linear</th>\n",
       "      <th>Ridge_Alpha_0.1</th>\n",
       "      <th>Ridge_Alpha_1</th>\n",
       "    </tr>\n",
       "  </thead>\n",
       "  <tbody>\n",
       "    <tr>\n",
       "      <th>fixed acidity</th>\n",
       "      <td>0.072594</td>\n",
       "      <td>0.062864</td>\n",
       "      <td>0.030700</td>\n",
       "    </tr>\n",
       "    <tr>\n",
       "      <th>volatile acidity</th>\n",
       "      <td>-0.208842</td>\n",
       "      <td>-0.186225</td>\n",
       "      <td>-0.117172</td>\n",
       "    </tr>\n",
       "    <tr>\n",
       "      <th>citric acid</th>\n",
       "      <td>-0.049952</td>\n",
       "      <td>-0.012416</td>\n",
       "      <td>0.037449</td>\n",
       "    </tr>\n",
       "    <tr>\n",
       "      <th>residual sugar</th>\n",
       "      <td>0.025345</td>\n",
       "      <td>0.023943</td>\n",
       "      <td>0.010020</td>\n",
       "    </tr>\n",
       "    <tr>\n",
       "      <th>chlorides</th>\n",
       "      <td>-0.084111</td>\n",
       "      <td>-0.081105</td>\n",
       "      <td>-0.049304</td>\n",
       "    </tr>\n",
       "    <tr>\n",
       "      <th>free sulfur dioxide</th>\n",
       "      <td>0.051536</td>\n",
       "      <td>0.038485</td>\n",
       "      <td>0.003806</td>\n",
       "    </tr>\n",
       "    <tr>\n",
       "      <th>total sulfur dioxide</th>\n",
       "      <td>-0.116801</td>\n",
       "      <td>-0.105259</td>\n",
       "      <td>-0.058813</td>\n",
       "    </tr>\n",
       "    <tr>\n",
       "      <th>density</th>\n",
       "      <td>-0.066891</td>\n",
       "      <td>-0.076054</td>\n",
       "      <td>-0.059569</td>\n",
       "    </tr>\n",
       "    <tr>\n",
       "      <th>pH</th>\n",
       "      <td>-0.059423</td>\n",
       "      <td>-0.043171</td>\n",
       "      <td>-0.015393</td>\n",
       "    </tr>\n",
       "    <tr>\n",
       "      <th>sulphates</th>\n",
       "      <td>0.149749</td>\n",
       "      <td>0.138163</td>\n",
       "      <td>0.080639</td>\n",
       "    </tr>\n",
       "    <tr>\n",
       "      <th>alcohol</th>\n",
       "      <td>0.281119</td>\n",
       "      <td>0.250823</td>\n",
       "      <td>0.151923</td>\n",
       "    </tr>\n",
       "  </tbody>\n",
       "</table>\n",
       "</div>"
      ],
      "text/plain": [
       "                        Linear  Ridge_Alpha_0.1  Ridge_Alpha_1\n",
       "fixed acidity         0.072594         0.062864       0.030700\n",
       "volatile acidity     -0.208842        -0.186225      -0.117172\n",
       "citric acid          -0.049952        -0.012416       0.037449\n",
       "residual sugar        0.025345         0.023943       0.010020\n",
       "chlorides            -0.084111        -0.081105      -0.049304\n",
       "free sulfur dioxide   0.051536         0.038485       0.003806\n",
       "total sulfur dioxide -0.116801        -0.105259      -0.058813\n",
       "density              -0.066891        -0.076054      -0.059569\n",
       "pH                   -0.059423        -0.043171      -0.015393\n",
       "sulphates             0.149749         0.138163       0.080639\n",
       "alcohol               0.281119         0.250823       0.151923"
      ]
     },
     "execution_count": 44,
     "metadata": {},
     "output_type": "execute_result"
    }
   ],
   "source": [
    "Coef_r = pd.DataFrame()\n",
    "Coef_r[0] = linreg_r.coef_\n",
    "Coef_r[1] = ridgereg_r01.coef_\n",
    "Coef_r[2] = ridgereg_r1.coef_\n",
    "\n",
    "Coef_r.set_index(X_wine66_red.columns, inplace=True)\n",
    "Coef_r.rename({0 : \"Linear\", 1 : \"Ridge_Alpha_0.1\", 2 : \"Ridge_Alpha_1\"}, axis=1, inplace=True)\n",
    "\n",
    "Coef_r"
   ]
  },
  {
   "cell_type": "markdown",
   "metadata": {},
   "source": [
    "2. ### Wine type: White"
   ]
  },
  {
   "cell_type": "code",
   "execution_count": 45,
   "metadata": {},
   "outputs": [
    {
     "data": {
      "text/html": [
       "<div>\n",
       "<style scoped>\n",
       "    .dataframe tbody tr th:only-of-type {\n",
       "        vertical-align: middle;\n",
       "    }\n",
       "\n",
       "    .dataframe tbody tr th {\n",
       "        vertical-align: top;\n",
       "    }\n",
       "\n",
       "    .dataframe thead th {\n",
       "        text-align: right;\n",
       "    }\n",
       "</style>\n",
       "<table border=\"1\" class=\"dataframe\">\n",
       "  <thead>\n",
       "    <tr style=\"text-align: right;\">\n",
       "      <th></th>\n",
       "      <th>Linear</th>\n",
       "      <th>Ridge_Alpha_0.1</th>\n",
       "      <th>Ridge_Alpha_1</th>\n",
       "    </tr>\n",
       "  </thead>\n",
       "  <tbody>\n",
       "    <tr>\n",
       "      <th>fixed acidity</th>\n",
       "      <td>0.043723</td>\n",
       "      <td>-0.018323</td>\n",
       "      <td>-0.026100</td>\n",
       "    </tr>\n",
       "    <tr>\n",
       "      <th>volatile acidity</th>\n",
       "      <td>-0.198924</td>\n",
       "      <td>-0.178686</td>\n",
       "      <td>-0.091191</td>\n",
       "    </tr>\n",
       "    <tr>\n",
       "      <th>citric acid</th>\n",
       "      <td>0.000782</td>\n",
       "      <td>0.003330</td>\n",
       "      <td>0.007125</td>\n",
       "    </tr>\n",
       "    <tr>\n",
       "      <th>residual sugar</th>\n",
       "      <td>0.388644</td>\n",
       "      <td>0.175281</td>\n",
       "      <td>0.033694</td>\n",
       "    </tr>\n",
       "    <tr>\n",
       "      <th>chlorides</th>\n",
       "      <td>-0.014862</td>\n",
       "      <td>-0.041108</td>\n",
       "      <td>-0.056198</td>\n",
       "    </tr>\n",
       "    <tr>\n",
       "      <th>free sulfur dioxide</th>\n",
       "      <td>0.053593</td>\n",
       "      <td>0.061357</td>\n",
       "      <td>0.031088</td>\n",
       "    </tr>\n",
       "    <tr>\n",
       "      <th>total sulfur dioxide</th>\n",
       "      <td>-0.004480</td>\n",
       "      <td>-0.023305</td>\n",
       "      <td>-0.028819</td>\n",
       "    </tr>\n",
       "    <tr>\n",
       "      <th>density</th>\n",
       "      <td>-0.407168</td>\n",
       "      <td>-0.140014</td>\n",
       "      <td>-0.071528</td>\n",
       "    </tr>\n",
       "    <tr>\n",
       "      <th>pH</th>\n",
       "      <td>0.098035</td>\n",
       "      <td>0.045481</td>\n",
       "      <td>0.025733</td>\n",
       "    </tr>\n",
       "    <tr>\n",
       "      <th>sulphates</th>\n",
       "      <td>0.062298</td>\n",
       "      <td>0.043688</td>\n",
       "      <td>0.023531</td>\n",
       "    </tr>\n",
       "    <tr>\n",
       "      <th>alcohol</th>\n",
       "      <td>0.255106</td>\n",
       "      <td>0.318404</td>\n",
       "      <td>0.160730</td>\n",
       "    </tr>\n",
       "  </tbody>\n",
       "</table>\n",
       "</div>"
      ],
      "text/plain": [
       "                        Linear  Ridge_Alpha_0.1  Ridge_Alpha_1\n",
       "fixed acidity         0.043723        -0.018323      -0.026100\n",
       "volatile acidity     -0.198924        -0.178686      -0.091191\n",
       "citric acid           0.000782         0.003330       0.007125\n",
       "residual sugar        0.388644         0.175281       0.033694\n",
       "chlorides            -0.014862        -0.041108      -0.056198\n",
       "free sulfur dioxide   0.053593         0.061357       0.031088\n",
       "total sulfur dioxide -0.004480        -0.023305      -0.028819\n",
       "density              -0.407168        -0.140014      -0.071528\n",
       "pH                    0.098035         0.045481       0.025733\n",
       "sulphates             0.062298         0.043688       0.023531\n",
       "alcohol               0.255106         0.318404       0.160730"
      ]
     },
     "execution_count": 45,
     "metadata": {},
     "output_type": "execute_result"
    }
   ],
   "source": [
    "Coef_w = pd.DataFrame()\n",
    "Coef_w[0] = linreg_w.coef_\n",
    "Coef_w[1] = ridgereg_w01.coef_\n",
    "Coef_w[2] = ridgereg_w1.coef_\n",
    "\n",
    "Coef_w.set_index(X_wine66_red.columns, inplace=True)\n",
    "Coef_w.rename({0 : \"Linear\", 1 : \"Ridge_Alpha_0.1\", 2 : \"Ridge_Alpha_1\"}, axis=1, inplace=True)\n",
    "\n",
    "Coef_w"
   ]
  },
  {
   "cell_type": "markdown",
   "metadata": {},
   "source": [
    "* #### Evaluate the RMSE"
   ]
  },
  {
   "cell_type": "markdown",
   "metadata": {},
   "source": [
    "The RMSE evaluation will take place at the end of the Exercise 6.8"
   ]
  },
  {
   "cell_type": "markdown",
   "metadata": {},
   "source": [
    "# Exercise 6.8\n",
    "\n",
    "* Estimate a lasso regression with alpha equals 0.01, 0.1 and 1.\n",
    "* Compare the coefficients with the linear regression\n",
    "* Evaluate the RMSE"
   ]
  },
  {
   "cell_type": "markdown",
   "metadata": {},
   "source": [
    "* #### Estimate a lasso regression with alpha equals 0.01, 0.1 and 1."
   ]
  },
  {
   "cell_type": "markdown",
   "metadata": {},
   "source": [
    "In order to make the results comparable, will be use the same dataset for training and test (without standarzide) that was obtained in the Exercise 6.6 and Exercise 6.7\n",
    "\n",
    "The dataset to be use, will be:\n",
    "\n",
    "#### Independent variables\n",
    "\n",
    "* ***Training purpose***\n",
    "    * wine66_r_training\n",
    "    * wine66_w_training\n",
    "* ***Test purpose***\n",
    "    * wine66_r_test\n",
    "    * wine66_w_test\n",
    "\n",
    "#### Dependent variables\n",
    "\n",
    "* ***Training purpose***\n",
    "    * y_r\n",
    "    * y_w\n",
    "* ***Test purpose***\n",
    "    * y66_r_p\n",
    "    * y66_w_p"
   ]
  },
  {
   "cell_type": "code",
   "execution_count": 46,
   "metadata": {},
   "outputs": [],
   "source": [
    "from sklearn.linear_model import Lasso"
   ]
  },
  {
   "cell_type": "markdown",
   "metadata": {},
   "source": [
    "### With: $\\alpha = 0.001$"
   ]
  },
  {
   "cell_type": "markdown",
   "metadata": {},
   "source": [
    "1. #### Lasso model for wines type: \"Red\""
   ]
  },
  {
   "cell_type": "code",
   "execution_count": 47,
   "metadata": {},
   "outputs": [
    {
     "data": {
      "text/plain": [
       "array([ 0.        , -0.19696274,  0.        , -0.        , -0.03554431,\n",
       "        0.        , -0.05327621, -0.        , -0.0226142 ,  0.09604027,\n",
       "        0.28920733])"
      ]
     },
     "execution_count": 47,
     "metadata": {},
     "output_type": "execute_result"
    }
   ],
   "source": [
    "lassoreg_r0001 = Lasso(alpha=0.001, normalize=True)\n",
    "lassoreg_r0001.fit(X_r_train, y_r_train)\n",
    "lassoreg_r0001.coef_"
   ]
  },
  {
   "cell_type": "markdown",
   "metadata": {},
   "source": [
    "2. #### Lasso model for wines type: \"White\""
   ]
  },
  {
   "cell_type": "code",
   "execution_count": 48,
   "metadata": {},
   "outputs": [
    {
     "data": {
      "text/plain": [
       "array([-0.0016476 , -0.14434816, -0.        ,  0.01296694, -0.        ,\n",
       "        0.00760351,  0.        , -0.        ,  0.        ,  0.        ,\n",
       "        0.3421803 ])"
      ]
     },
     "execution_count": 48,
     "metadata": {},
     "output_type": "execute_result"
    }
   ],
   "source": [
    "lassoreg_w0001 = Lasso(alpha=0.001, normalize=True)\n",
    "lassoreg_w0001.fit(X_w_train, y_w_train)\n",
    "lassoreg_w0001.coef_"
   ]
  },
  {
   "cell_type": "markdown",
   "metadata": {},
   "source": [
    "### With: $\\alpha = 0.01$"
   ]
  },
  {
   "cell_type": "markdown",
   "metadata": {},
   "source": [
    "1. #### Lasso model for wines type: \"Red\""
   ]
  },
  {
   "cell_type": "code",
   "execution_count": 49,
   "metadata": {},
   "outputs": [
    {
     "data": {
      "text/plain": [
       "array([ 0.        , -0.        ,  0.        ,  0.        , -0.        ,\n",
       "       -0.        , -0.        , -0.        , -0.        ,  0.        ,\n",
       "        0.04155204])"
      ]
     },
     "execution_count": 49,
     "metadata": {},
     "output_type": "execute_result"
    }
   ],
   "source": [
    "lassoreg_r001 = Lasso(alpha=0.01, normalize=True)\n",
    "lassoreg_r001.fit(X_r_train, y_r_train)\n",
    "lassoreg_r001.coef_"
   ]
  },
  {
   "cell_type": "markdown",
   "metadata": {},
   "source": [
    "2. #### Lasso model for wines type: \"White\""
   ]
  },
  {
   "cell_type": "code",
   "execution_count": 50,
   "metadata": {},
   "outputs": [
    {
     "data": {
      "text/plain": [
       "array([-0., -0., -0., -0., -0., -0., -0., -0.,  0.,  0.,  0.])"
      ]
     },
     "execution_count": 50,
     "metadata": {},
     "output_type": "execute_result"
    }
   ],
   "source": [
    "lassoreg_w001 = Lasso(alpha=0.01, normalize=True)\n",
    "lassoreg_w001.fit(X_w_train, y_w_train)\n",
    "lassoreg_w001.coef_"
   ]
  },
  {
   "cell_type": "markdown",
   "metadata": {},
   "source": [
    "### With: $\\alpha = 0.1$"
   ]
  },
  {
   "cell_type": "markdown",
   "metadata": {},
   "source": [
    "1. #### Lasso model for wines type: \"Red\""
   ]
  },
  {
   "cell_type": "code",
   "execution_count": 51,
   "metadata": {},
   "outputs": [
    {
     "data": {
      "text/plain": [
       "array([ 0., -0.,  0.,  0., -0., -0., -0., -0., -0.,  0.,  0.])"
      ]
     },
     "execution_count": 51,
     "metadata": {},
     "output_type": "execute_result"
    }
   ],
   "source": [
    "lassoreg_r01 = Lasso(alpha=0.1, normalize=True)\n",
    "lassoreg_r01.fit(X_r_train, y_r_train)\n",
    "lassoreg_r01.coef_"
   ]
  },
  {
   "cell_type": "markdown",
   "metadata": {},
   "source": [
    "2. #### Lasso model for wines type: \"White\""
   ]
  },
  {
   "cell_type": "code",
   "execution_count": 52,
   "metadata": {},
   "outputs": [
    {
     "data": {
      "text/plain": [
       "array([-0., -0., -0., -0., -0., -0., -0., -0.,  0.,  0.,  0.])"
      ]
     },
     "execution_count": 52,
     "metadata": {},
     "output_type": "execute_result"
    }
   ],
   "source": [
    "lassoreg_w01 = Lasso(alpha=0.1, normalize=True)\n",
    "lassoreg_w01.fit(X_w_train, y_w_train)\n",
    "lassoreg_w01.coef_"
   ]
  },
  {
   "cell_type": "markdown",
   "metadata": {},
   "source": [
    "### With: $\\alpha = 1$"
   ]
  },
  {
   "cell_type": "markdown",
   "metadata": {},
   "source": [
    "1. #### Lasso model for wines type: \"Red\""
   ]
  },
  {
   "cell_type": "code",
   "execution_count": 53,
   "metadata": {},
   "outputs": [
    {
     "data": {
      "text/plain": [
       "array([ 0., -0.,  0.,  0., -0., -0., -0., -0., -0.,  0.,  0.])"
      ]
     },
     "execution_count": 53,
     "metadata": {},
     "output_type": "execute_result"
    }
   ],
   "source": [
    "lassoreg_r1 = Lasso(alpha=1, normalize=True)\n",
    "lassoreg_r1.fit(X_r_train, y_r_train)\n",
    "lassoreg_r1.coef_"
   ]
  },
  {
   "cell_type": "markdown",
   "metadata": {},
   "source": [
    "2. #### Lasso model for wines type: \"White\""
   ]
  },
  {
   "cell_type": "code",
   "execution_count": 54,
   "metadata": {},
   "outputs": [
    {
     "data": {
      "text/plain": [
       "array([-0., -0., -0., -0., -0., -0., -0., -0.,  0.,  0.,  0.])"
      ]
     },
     "execution_count": 54,
     "metadata": {},
     "output_type": "execute_result"
    }
   ],
   "source": [
    "lassoreg_w1 = Lasso(alpha=1, normalize=True)\n",
    "lassoreg_w1.fit(X_w_train, y_w_train)\n",
    "lassoreg_w1.coef_"
   ]
  },
  {
   "cell_type": "markdown",
   "metadata": {},
   "source": [
    "* #### Compare the coefficients with the linear regression"
   ]
  },
  {
   "cell_type": "markdown",
   "metadata": {},
   "source": [
    "Will be use the same matrix created in the Exercise 6.7 in order to compare all the coefficients"
   ]
  },
  {
   "cell_type": "markdown",
   "metadata": {},
   "source": [
    "1. ### Wine type: Red"
   ]
  },
  {
   "cell_type": "code",
   "execution_count": 55,
   "metadata": {},
   "outputs": [
    {
     "data": {
      "text/html": [
       "<div>\n",
       "<style scoped>\n",
       "    .dataframe tbody tr th:only-of-type {\n",
       "        vertical-align: middle;\n",
       "    }\n",
       "\n",
       "    .dataframe tbody tr th {\n",
       "        vertical-align: top;\n",
       "    }\n",
       "\n",
       "    .dataframe thead th {\n",
       "        text-align: right;\n",
       "    }\n",
       "</style>\n",
       "<table border=\"1\" class=\"dataframe\">\n",
       "  <thead>\n",
       "    <tr style=\"text-align: right;\">\n",
       "      <th></th>\n",
       "      <th>Linear</th>\n",
       "      <th>Ridge_Alpha_0.1</th>\n",
       "      <th>Ridge_Alpha_1</th>\n",
       "      <th>Lasso_Alpha_0.001</th>\n",
       "      <th>Lasso_Alpha_0.01</th>\n",
       "      <th>Lasso_Alpha_0.1</th>\n",
       "      <th>Lasso_Alpha_1</th>\n",
       "    </tr>\n",
       "  </thead>\n",
       "  <tbody>\n",
       "    <tr>\n",
       "      <th>fixed acidity</th>\n",
       "      <td>0.072594</td>\n",
       "      <td>0.062864</td>\n",
       "      <td>0.030700</td>\n",
       "      <td>0.000000</td>\n",
       "      <td>0.000000</td>\n",
       "      <td>0.0</td>\n",
       "      <td>0.0</td>\n",
       "    </tr>\n",
       "    <tr>\n",
       "      <th>volatile acidity</th>\n",
       "      <td>-0.208842</td>\n",
       "      <td>-0.186225</td>\n",
       "      <td>-0.117172</td>\n",
       "      <td>-0.196963</td>\n",
       "      <td>-0.000000</td>\n",
       "      <td>-0.0</td>\n",
       "      <td>-0.0</td>\n",
       "    </tr>\n",
       "    <tr>\n",
       "      <th>citric acid</th>\n",
       "      <td>-0.049952</td>\n",
       "      <td>-0.012416</td>\n",
       "      <td>0.037449</td>\n",
       "      <td>0.000000</td>\n",
       "      <td>0.000000</td>\n",
       "      <td>0.0</td>\n",
       "      <td>0.0</td>\n",
       "    </tr>\n",
       "    <tr>\n",
       "      <th>residual sugar</th>\n",
       "      <td>0.025345</td>\n",
       "      <td>0.023943</td>\n",
       "      <td>0.010020</td>\n",
       "      <td>-0.000000</td>\n",
       "      <td>0.000000</td>\n",
       "      <td>0.0</td>\n",
       "      <td>0.0</td>\n",
       "    </tr>\n",
       "    <tr>\n",
       "      <th>chlorides</th>\n",
       "      <td>-0.084111</td>\n",
       "      <td>-0.081105</td>\n",
       "      <td>-0.049304</td>\n",
       "      <td>-0.035544</td>\n",
       "      <td>-0.000000</td>\n",
       "      <td>-0.0</td>\n",
       "      <td>-0.0</td>\n",
       "    </tr>\n",
       "    <tr>\n",
       "      <th>free sulfur dioxide</th>\n",
       "      <td>0.051536</td>\n",
       "      <td>0.038485</td>\n",
       "      <td>0.003806</td>\n",
       "      <td>0.000000</td>\n",
       "      <td>-0.000000</td>\n",
       "      <td>-0.0</td>\n",
       "      <td>-0.0</td>\n",
       "    </tr>\n",
       "    <tr>\n",
       "      <th>total sulfur dioxide</th>\n",
       "      <td>-0.116801</td>\n",
       "      <td>-0.105259</td>\n",
       "      <td>-0.058813</td>\n",
       "      <td>-0.053276</td>\n",
       "      <td>-0.000000</td>\n",
       "      <td>-0.0</td>\n",
       "      <td>-0.0</td>\n",
       "    </tr>\n",
       "    <tr>\n",
       "      <th>density</th>\n",
       "      <td>-0.066891</td>\n",
       "      <td>-0.076054</td>\n",
       "      <td>-0.059569</td>\n",
       "      <td>-0.000000</td>\n",
       "      <td>-0.000000</td>\n",
       "      <td>-0.0</td>\n",
       "      <td>-0.0</td>\n",
       "    </tr>\n",
       "    <tr>\n",
       "      <th>pH</th>\n",
       "      <td>-0.059423</td>\n",
       "      <td>-0.043171</td>\n",
       "      <td>-0.015393</td>\n",
       "      <td>-0.022614</td>\n",
       "      <td>-0.000000</td>\n",
       "      <td>-0.0</td>\n",
       "      <td>-0.0</td>\n",
       "    </tr>\n",
       "    <tr>\n",
       "      <th>sulphates</th>\n",
       "      <td>0.149749</td>\n",
       "      <td>0.138163</td>\n",
       "      <td>0.080639</td>\n",
       "      <td>0.096040</td>\n",
       "      <td>0.000000</td>\n",
       "      <td>0.0</td>\n",
       "      <td>0.0</td>\n",
       "    </tr>\n",
       "    <tr>\n",
       "      <th>alcohol</th>\n",
       "      <td>0.281119</td>\n",
       "      <td>0.250823</td>\n",
       "      <td>0.151923</td>\n",
       "      <td>0.289207</td>\n",
       "      <td>0.041552</td>\n",
       "      <td>0.0</td>\n",
       "      <td>0.0</td>\n",
       "    </tr>\n",
       "  </tbody>\n",
       "</table>\n",
       "</div>"
      ],
      "text/plain": [
       "                        Linear  Ridge_Alpha_0.1  Ridge_Alpha_1  \\\n",
       "fixed acidity         0.072594         0.062864       0.030700   \n",
       "volatile acidity     -0.208842        -0.186225      -0.117172   \n",
       "citric acid          -0.049952        -0.012416       0.037449   \n",
       "residual sugar        0.025345         0.023943       0.010020   \n",
       "chlorides            -0.084111        -0.081105      -0.049304   \n",
       "free sulfur dioxide   0.051536         0.038485       0.003806   \n",
       "total sulfur dioxide -0.116801        -0.105259      -0.058813   \n",
       "density              -0.066891        -0.076054      -0.059569   \n",
       "pH                   -0.059423        -0.043171      -0.015393   \n",
       "sulphates             0.149749         0.138163       0.080639   \n",
       "alcohol               0.281119         0.250823       0.151923   \n",
       "\n",
       "                      Lasso_Alpha_0.001  Lasso_Alpha_0.01  Lasso_Alpha_0.1  \\\n",
       "fixed acidity                  0.000000          0.000000              0.0   \n",
       "volatile acidity              -0.196963         -0.000000             -0.0   \n",
       "citric acid                    0.000000          0.000000              0.0   \n",
       "residual sugar                -0.000000          0.000000              0.0   \n",
       "chlorides                     -0.035544         -0.000000             -0.0   \n",
       "free sulfur dioxide            0.000000         -0.000000             -0.0   \n",
       "total sulfur dioxide          -0.053276         -0.000000             -0.0   \n",
       "density                       -0.000000         -0.000000             -0.0   \n",
       "pH                            -0.022614         -0.000000             -0.0   \n",
       "sulphates                      0.096040          0.000000              0.0   \n",
       "alcohol                        0.289207          0.041552              0.0   \n",
       "\n",
       "                      Lasso_Alpha_1  \n",
       "fixed acidity                   0.0  \n",
       "volatile acidity               -0.0  \n",
       "citric acid                     0.0  \n",
       "residual sugar                  0.0  \n",
       "chlorides                      -0.0  \n",
       "free sulfur dioxide            -0.0  \n",
       "total sulfur dioxide           -0.0  \n",
       "density                        -0.0  \n",
       "pH                             -0.0  \n",
       "sulphates                       0.0  \n",
       "alcohol                         0.0  "
      ]
     },
     "execution_count": 55,
     "metadata": {},
     "output_type": "execute_result"
    }
   ],
   "source": [
    "Coef_r[3] = lassoreg_r0001.coef_\n",
    "Coef_r[4] = lassoreg_r001.coef_\n",
    "Coef_r[5] = lassoreg_r01.coef_\n",
    "Coef_r[6] = lassoreg_r1.coef_\n",
    "\n",
    "Coef_r.rename({3 : \"Lasso_Alpha_0.001\", \n",
    "               4 : \"Lasso_Alpha_0.01\", \n",
    "               5 : \"Lasso_Alpha_0.1\", \n",
    "               6 : \"Lasso_Alpha_1\"}, axis=1, inplace=True)\n",
    "\n",
    "Coef_r"
   ]
  },
  {
   "cell_type": "markdown",
   "metadata": {},
   "source": [
    "2. ### Wine type: White"
   ]
  },
  {
   "cell_type": "code",
   "execution_count": 56,
   "metadata": {},
   "outputs": [
    {
     "data": {
      "text/html": [
       "<div>\n",
       "<style scoped>\n",
       "    .dataframe tbody tr th:only-of-type {\n",
       "        vertical-align: middle;\n",
       "    }\n",
       "\n",
       "    .dataframe tbody tr th {\n",
       "        vertical-align: top;\n",
       "    }\n",
       "\n",
       "    .dataframe thead th {\n",
       "        text-align: right;\n",
       "    }\n",
       "</style>\n",
       "<table border=\"1\" class=\"dataframe\">\n",
       "  <thead>\n",
       "    <tr style=\"text-align: right;\">\n",
       "      <th></th>\n",
       "      <th>Linear</th>\n",
       "      <th>Ridge_Alpha_0.1</th>\n",
       "      <th>Ridge_Alpha_1</th>\n",
       "      <th>Lasso_Alpha_0.001</th>\n",
       "      <th>Lasso_Alpha_0.01</th>\n",
       "      <th>Lasso_Alpha_0.1</th>\n",
       "      <th>Lasso_Alpha_1</th>\n",
       "    </tr>\n",
       "  </thead>\n",
       "  <tbody>\n",
       "    <tr>\n",
       "      <th>fixed acidity</th>\n",
       "      <td>0.043723</td>\n",
       "      <td>-0.018323</td>\n",
       "      <td>-0.026100</td>\n",
       "      <td>-0.0</td>\n",
       "      <td>-0.0</td>\n",
       "      <td>-0.0</td>\n",
       "      <td>-0.0</td>\n",
       "    </tr>\n",
       "    <tr>\n",
       "      <th>volatile acidity</th>\n",
       "      <td>-0.198924</td>\n",
       "      <td>-0.178686</td>\n",
       "      <td>-0.091191</td>\n",
       "      <td>-0.0</td>\n",
       "      <td>-0.0</td>\n",
       "      <td>-0.0</td>\n",
       "      <td>-0.0</td>\n",
       "    </tr>\n",
       "    <tr>\n",
       "      <th>citric acid</th>\n",
       "      <td>0.000782</td>\n",
       "      <td>0.003330</td>\n",
       "      <td>0.007125</td>\n",
       "      <td>-0.0</td>\n",
       "      <td>-0.0</td>\n",
       "      <td>-0.0</td>\n",
       "      <td>-0.0</td>\n",
       "    </tr>\n",
       "    <tr>\n",
       "      <th>residual sugar</th>\n",
       "      <td>0.388644</td>\n",
       "      <td>0.175281</td>\n",
       "      <td>0.033694</td>\n",
       "      <td>-0.0</td>\n",
       "      <td>-0.0</td>\n",
       "      <td>-0.0</td>\n",
       "      <td>-0.0</td>\n",
       "    </tr>\n",
       "    <tr>\n",
       "      <th>chlorides</th>\n",
       "      <td>-0.014862</td>\n",
       "      <td>-0.041108</td>\n",
       "      <td>-0.056198</td>\n",
       "      <td>-0.0</td>\n",
       "      <td>-0.0</td>\n",
       "      <td>-0.0</td>\n",
       "      <td>-0.0</td>\n",
       "    </tr>\n",
       "    <tr>\n",
       "      <th>free sulfur dioxide</th>\n",
       "      <td>0.053593</td>\n",
       "      <td>0.061357</td>\n",
       "      <td>0.031088</td>\n",
       "      <td>-0.0</td>\n",
       "      <td>-0.0</td>\n",
       "      <td>-0.0</td>\n",
       "      <td>-0.0</td>\n",
       "    </tr>\n",
       "    <tr>\n",
       "      <th>total sulfur dioxide</th>\n",
       "      <td>-0.004480</td>\n",
       "      <td>-0.023305</td>\n",
       "      <td>-0.028819</td>\n",
       "      <td>-0.0</td>\n",
       "      <td>-0.0</td>\n",
       "      <td>-0.0</td>\n",
       "      <td>-0.0</td>\n",
       "    </tr>\n",
       "    <tr>\n",
       "      <th>density</th>\n",
       "      <td>-0.407168</td>\n",
       "      <td>-0.140014</td>\n",
       "      <td>-0.071528</td>\n",
       "      <td>-0.0</td>\n",
       "      <td>-0.0</td>\n",
       "      <td>-0.0</td>\n",
       "      <td>-0.0</td>\n",
       "    </tr>\n",
       "    <tr>\n",
       "      <th>pH</th>\n",
       "      <td>0.098035</td>\n",
       "      <td>0.045481</td>\n",
       "      <td>0.025733</td>\n",
       "      <td>0.0</td>\n",
       "      <td>0.0</td>\n",
       "      <td>0.0</td>\n",
       "      <td>0.0</td>\n",
       "    </tr>\n",
       "    <tr>\n",
       "      <th>sulphates</th>\n",
       "      <td>0.062298</td>\n",
       "      <td>0.043688</td>\n",
       "      <td>0.023531</td>\n",
       "      <td>0.0</td>\n",
       "      <td>0.0</td>\n",
       "      <td>0.0</td>\n",
       "      <td>0.0</td>\n",
       "    </tr>\n",
       "    <tr>\n",
       "      <th>alcohol</th>\n",
       "      <td>0.255106</td>\n",
       "      <td>0.318404</td>\n",
       "      <td>0.160730</td>\n",
       "      <td>0.0</td>\n",
       "      <td>0.0</td>\n",
       "      <td>0.0</td>\n",
       "      <td>0.0</td>\n",
       "    </tr>\n",
       "  </tbody>\n",
       "</table>\n",
       "</div>"
      ],
      "text/plain": [
       "                        Linear  Ridge_Alpha_0.1  Ridge_Alpha_1  \\\n",
       "fixed acidity         0.043723        -0.018323      -0.026100   \n",
       "volatile acidity     -0.198924        -0.178686      -0.091191   \n",
       "citric acid           0.000782         0.003330       0.007125   \n",
       "residual sugar        0.388644         0.175281       0.033694   \n",
       "chlorides            -0.014862        -0.041108      -0.056198   \n",
       "free sulfur dioxide   0.053593         0.061357       0.031088   \n",
       "total sulfur dioxide -0.004480        -0.023305      -0.028819   \n",
       "density              -0.407168        -0.140014      -0.071528   \n",
       "pH                    0.098035         0.045481       0.025733   \n",
       "sulphates             0.062298         0.043688       0.023531   \n",
       "alcohol               0.255106         0.318404       0.160730   \n",
       "\n",
       "                      Lasso_Alpha_0.001  Lasso_Alpha_0.01  Lasso_Alpha_0.1  \\\n",
       "fixed acidity                      -0.0              -0.0             -0.0   \n",
       "volatile acidity                   -0.0              -0.0             -0.0   \n",
       "citric acid                        -0.0              -0.0             -0.0   \n",
       "residual sugar                     -0.0              -0.0             -0.0   \n",
       "chlorides                          -0.0              -0.0             -0.0   \n",
       "free sulfur dioxide                -0.0              -0.0             -0.0   \n",
       "total sulfur dioxide               -0.0              -0.0             -0.0   \n",
       "density                            -0.0              -0.0             -0.0   \n",
       "pH                                  0.0               0.0              0.0   \n",
       "sulphates                           0.0               0.0              0.0   \n",
       "alcohol                             0.0               0.0              0.0   \n",
       "\n",
       "                      Lasso_Alpha_1  \n",
       "fixed acidity                  -0.0  \n",
       "volatile acidity               -0.0  \n",
       "citric acid                    -0.0  \n",
       "residual sugar                 -0.0  \n",
       "chlorides                      -0.0  \n",
       "free sulfur dioxide            -0.0  \n",
       "total sulfur dioxide           -0.0  \n",
       "density                        -0.0  \n",
       "pH                              0.0  \n",
       "sulphates                       0.0  \n",
       "alcohol                         0.0  "
      ]
     },
     "execution_count": 56,
     "metadata": {},
     "output_type": "execute_result"
    }
   ],
   "source": [
    "Coef_w[3] = lassoreg_w001.coef_\n",
    "Coef_w[4] = lassoreg_w001.coef_\n",
    "Coef_w[5] = lassoreg_w01.coef_\n",
    "Coef_w[6] = lassoreg_w1.coef_\n",
    "\n",
    "Coef_w.rename({3 : \"Lasso_Alpha_0.001\", \n",
    "               4 : \"Lasso_Alpha_0.01\", \n",
    "               5 : \"Lasso_Alpha_0.1\", \n",
    "               6 : \"Lasso_Alpha_1\"}, axis=1, inplace=True)\n",
    "\n",
    "Coef_w"
   ]
  },
  {
   "cell_type": "code",
   "execution_count": 57,
   "metadata": {},
   "outputs": [
    {
     "data": {
      "image/png": "[encoded data removed]",
      "text/plain": [
       "<Figure size 1152x576 with 2 Axes>"
      ]
     },
     "metadata": {
      "needs_background": "light"
     },
     "output_type": "display_data"
    }
   ],
   "source": [
    "f, (ax1, ax2) = plt.subplots(1,2, figsize=(16, 8))\n",
    "\n",
    "ax1.plot(Coef_r, marker='o', markersize=5)\n",
    "ax1.plot(Coef_r[\"Linear\"], marker='o', markersize=15) # Linear\n",
    "ax1.set_title('Coefficients - Wine: Red')\n",
    "ax1.set_ylabel('Coefficients')\n",
    "ax1.set_xlabel('Independent Variables')\n",
    "ax1.set_xticklabels(Coef_r.index, rotation=90)\n",
    "\n",
    "\n",
    "ax2.plot(Coef_w, marker='o', markersize=5)\n",
    "ax2.plot(Coef_w[\"Linear\"], marker='o', markersize=15) # Linear\n",
    "ax2.set_title('Coefficients - Wine: White')\n",
    "ax2.set_ylabel('Coefficients')\n",
    "ax2.set_xlabel('Independent Variables')\n",
    "ax2.set_xticklabels(Coef_w.index, rotation=90)\n",
    "\n",
    "f.show()"
   ]
  },
  {
   "cell_type": "markdown",
   "metadata": {},
   "source": [
    "As the graphic above shows, the linear model (the grey line with the biggest marker) have the extreme (or lower/higher) coefficients.\n",
    "\n",
    "For the other models, the coefficient values are between zero and the barrier given by the linear model."
   ]
  },
  {
   "cell_type": "markdown",
   "metadata": {},
   "source": [
    "* #### Evaluate the RMSE"
   ]
  },
  {
   "cell_type": "code",
   "execution_count": 58,
   "metadata": {},
   "outputs": [
    {
     "name": "stdout",
     "output_type": "stream",
     "text": [
      "RMSE for Wine type: RED\n",
      "\n",
      "\n",
      "Linear : 0.6217566937621426\n",
      "Ridger - alpha = 0.1 : 0.6205118061816136\n",
      "Ridger - alpha = 1 : 0.641631672790898\n",
      "Lasso - alpha = 0.001  : 0.6218390494553881\n",
      "Lasso - alpha = 0.01  : 0.7496394174044155\n",
      "Lasso - alpha = 0.1  : 0.7685614096815536\n",
      "Lasso - alpha = 1  : 0.7685614096815536\n",
      "\n",
      "\n",
      "RMSE for Wine type: WHITE\n",
      "\n",
      "\n",
      "Linear : 0.8101067966827036\n",
      "Ridger - alpha = 0.1 : 0.8073050386226716\n",
      "Ridger - alpha = 1 : 0.8173488199348091\n",
      "Lasso - alpha = 0.001  : 0.7975980156786885\n",
      "Lasso - alpha = 0.01  : 0.8815741740921464\n",
      "Lasso - alpha = 0.1  : 0.8990355830242747\n",
      "Lasso - alpha = 1  : 0.8990355830242747\n"
     ]
    }
   ],
   "source": [
    "print(\"RMSE for Wine type: RED\")\n",
    "print(\"\\n\")\n",
    "print(\"Linear : \" + str(np.sqrt(metrics.mean_squared_error(y_r_test, linreg_r.predict(X_r_s_test)))))\n",
    "print(\"Ridger - alpha = 0.1 : \" + str(np.sqrt(metrics.mean_squared_error(y_r_test, ridgereg_r01.predict(X_r_s_test)))))\n",
    "print(\"Ridger - alpha = 1 : \" + str(np.sqrt(metrics.mean_squared_error(y_r_test, ridgereg_r1.predict(X_r_s_test)))))\n",
    "print(\"Lasso - alpha = 0.001  : \" + str(np.sqrt(metrics.mean_squared_error(y_r_test, lassoreg_r0001.predict(X_r_s_test)))))\n",
    "print(\"Lasso - alpha = 0.01  : \" + str(np.sqrt(metrics.mean_squared_error(y_r_test, lassoreg_r001.predict(X_r_s_test)))))\n",
    "print(\"Lasso - alpha = 0.1  : \" + str(np.sqrt(metrics.mean_squared_error(y_r_test, lassoreg_r01.predict(X_r_s_test)))))\n",
    "print(\"Lasso - alpha = 1  : \" + str(np.sqrt(metrics.mean_squared_error(y_r_test, lassoreg_r1.predict(X_r_s_test)))))\n",
    "\n",
    "print(\"\\n\")\n",
    "print(\"RMSE for Wine type: WHITE\")\n",
    "print(\"\\n\")\n",
    "print(\"Linear : \" + str(np.sqrt(metrics.mean_squared_error(y_w_test, linreg_r.predict(X_w_s_test)))))\n",
    "print(\"Ridger - alpha = 0.1 : \" + str(np.sqrt(metrics.mean_squared_error(y_w_test, ridgereg_r01.predict(X_w_s_test)))))\n",
    "print(\"Ridger - alpha = 1 : \" + str(np.sqrt(metrics.mean_squared_error(y_w_test, ridgereg_r1.predict(X_w_s_test)))))\n",
    "print(\"Lasso - alpha = 0.001  : \" + str(np.sqrt(metrics.mean_squared_error(y_w_test, lassoreg_r0001.predict(X_w_s_test)))))\n",
    "print(\"Lasso - alpha = 0.01  : \" + str(np.sqrt(metrics.mean_squared_error(y_w_test, lassoreg_r001.predict(X_w_s_test)))))\n",
    "print(\"Lasso - alpha = 0.1  : \" + str(np.sqrt(metrics.mean_squared_error(y_w_test, lassoreg_r01.predict(X_w_s_test)))))\n",
    "print(\"Lasso - alpha = 1  : \" + str(np.sqrt(metrics.mean_squared_error(y_w_test, lassoreg_r1.predict(X_w_s_test)))))"
   ]
  },
  {
   "cell_type": "markdown",
   "metadata": {},
   "source": [
    "It's hard to determinate which is the model with the best prediction (or lower RMSE) since depends of the type of wine!\n",
    "That means that there is not a better or worst model. Depends about the dataset and situation!"
   ]
  },
  {
   "cell_type": "markdown",
   "metadata": {},
   "source": [
    "# Exercise 6.9\n",
    "\n",
    "* Create a binary target\n",
    "\n",
    "* Train a logistic regression to predict wine quality (binary)\n",
    "\n",
    "* Analyze the coefficients\n",
    "\n",
    "* Evaluate the f1score"
   ]
  },
  {
   "cell_type": "markdown",
   "metadata": {},
   "source": [
    "* #### Create a binary target"
   ]
  },
  {
   "cell_type": "code",
   "execution_count": 59,
   "metadata": {},
   "outputs": [],
   "source": [
    "winelg = data\n",
    "\n",
    "winelg_r = winelg[winelg['type'] == 'red']\n",
    "winelg_w = winelg[winelg['type'] == 'white']\n",
    "\n",
    "winelg_r.reset_index(inplace=True)\n",
    "winelg_w.reset_index(inplace=True)\n",
    "\n",
    "# Create the binary target\n",
    "winelg_r[\"target\"] = winelg_r['quality'] >= 7\n",
    "winelg_w[\"target\"] = winelg_w['quality'] >= 7"
   ]
  },
  {
   "cell_type": "code",
   "execution_count": 60,
   "metadata": {},
   "outputs": [
    {
     "data": {
      "text/html": [
       "<div>\n",
       "<style scoped>\n",
       "    .dataframe tbody tr th:only-of-type {\n",
       "        vertical-align: middle;\n",
       "    }\n",
       "\n",
       "    .dataframe tbody tr th {\n",
       "        vertical-align: top;\n",
       "    }\n",
       "\n",
       "    .dataframe thead th {\n",
       "        text-align: right;\n",
       "    }\n",
       "</style>\n",
       "<table border=\"1\" class=\"dataframe\">\n",
       "  <thead>\n",
       "    <tr style=\"text-align: right;\">\n",
       "      <th></th>\n",
       "      <th>index</th>\n",
       "      <th>fixed acidity</th>\n",
       "      <th>volatile acidity</th>\n",
       "      <th>citric acid</th>\n",
       "      <th>residual sugar</th>\n",
       "      <th>chlorides</th>\n",
       "      <th>free sulfur dioxide</th>\n",
       "      <th>total sulfur dioxide</th>\n",
       "      <th>density</th>\n",
       "      <th>pH</th>\n",
       "      <th>sulphates</th>\n",
       "      <th>alcohol</th>\n",
       "      <th>quality</th>\n",
       "      <th>type</th>\n",
       "      <th>target</th>\n",
       "    </tr>\n",
       "  </thead>\n",
       "  <tbody>\n",
       "    <tr>\n",
       "      <th>0</th>\n",
       "      <td>4898</td>\n",
       "      <td>7.4</td>\n",
       "      <td>0.70</td>\n",
       "      <td>0.00</td>\n",
       "      <td>1.9</td>\n",
       "      <td>0.076</td>\n",
       "      <td>11.0</td>\n",
       "      <td>34.0</td>\n",
       "      <td>0.9978</td>\n",
       "      <td>3.51</td>\n",
       "      <td>0.56</td>\n",
       "      <td>9.4</td>\n",
       "      <td>5</td>\n",
       "      <td>red</td>\n",
       "      <td>False</td>\n",
       "    </tr>\n",
       "    <tr>\n",
       "      <th>1</th>\n",
       "      <td>4899</td>\n",
       "      <td>7.8</td>\n",
       "      <td>0.88</td>\n",
       "      <td>0.00</td>\n",
       "      <td>2.6</td>\n",
       "      <td>0.098</td>\n",
       "      <td>25.0</td>\n",
       "      <td>67.0</td>\n",
       "      <td>0.9968</td>\n",
       "      <td>3.20</td>\n",
       "      <td>0.68</td>\n",
       "      <td>9.8</td>\n",
       "      <td>5</td>\n",
       "      <td>red</td>\n",
       "      <td>False</td>\n",
       "    </tr>\n",
       "    <tr>\n",
       "      <th>2</th>\n",
       "      <td>4900</td>\n",
       "      <td>7.8</td>\n",
       "      <td>0.76</td>\n",
       "      <td>0.04</td>\n",
       "      <td>2.3</td>\n",
       "      <td>0.092</td>\n",
       "      <td>15.0</td>\n",
       "      <td>54.0</td>\n",
       "      <td>0.9970</td>\n",
       "      <td>3.26</td>\n",
       "      <td>0.65</td>\n",
       "      <td>9.8</td>\n",
       "      <td>5</td>\n",
       "      <td>red</td>\n",
       "      <td>False</td>\n",
       "    </tr>\n",
       "    <tr>\n",
       "      <th>3</th>\n",
       "      <td>4901</td>\n",
       "      <td>11.2</td>\n",
       "      <td>0.28</td>\n",
       "      <td>0.56</td>\n",
       "      <td>1.9</td>\n",
       "      <td>0.075</td>\n",
       "      <td>17.0</td>\n",
       "      <td>60.0</td>\n",
       "      <td>0.9980</td>\n",
       "      <td>3.16</td>\n",
       "      <td>0.58</td>\n",
       "      <td>9.8</td>\n",
       "      <td>6</td>\n",
       "      <td>red</td>\n",
       "      <td>False</td>\n",
       "    </tr>\n",
       "    <tr>\n",
       "      <th>4</th>\n",
       "      <td>4902</td>\n",
       "      <td>7.4</td>\n",
       "      <td>0.70</td>\n",
       "      <td>0.00</td>\n",
       "      <td>1.9</td>\n",
       "      <td>0.076</td>\n",
       "      <td>11.0</td>\n",
       "      <td>34.0</td>\n",
       "      <td>0.9978</td>\n",
       "      <td>3.51</td>\n",
       "      <td>0.56</td>\n",
       "      <td>9.4</td>\n",
       "      <td>5</td>\n",
       "      <td>red</td>\n",
       "      <td>False</td>\n",
       "    </tr>\n",
       "  </tbody>\n",
       "</table>\n",
       "</div>"
      ],
      "text/plain": [
       "   index  fixed acidity  volatile acidity  citric acid  residual sugar  \\\n",
       "0   4898            7.4              0.70         0.00             1.9   \n",
       "1   4899            7.8              0.88         0.00             2.6   \n",
       "2   4900            7.8              0.76         0.04             2.3   \n",
       "3   4901           11.2              0.28         0.56             1.9   \n",
       "4   4902            7.4              0.70         0.00             1.9   \n",
       "\n",
       "   chlorides  free sulfur dioxide  total sulfur dioxide  density    pH  \\\n",
       "0      0.076                 11.0                  34.0   0.9978  3.51   \n",
       "1      0.098                 25.0                  67.0   0.9968  3.20   \n",
       "2      0.092                 15.0                  54.0   0.9970  3.26   \n",
       "3      0.075                 17.0                  60.0   0.9980  3.16   \n",
       "4      0.076                 11.0                  34.0   0.9978  3.51   \n",
       "\n",
       "   sulphates  alcohol  quality type  target  \n",
       "0       0.56      9.4        5  red   False  \n",
       "1       0.68      9.8        5  red   False  \n",
       "2       0.65      9.8        5  red   False  \n",
       "3       0.58      9.8        6  red   False  \n",
       "4       0.56      9.4        5  red   False  "
      ]
     },
     "execution_count": 60,
     "metadata": {},
     "output_type": "execute_result"
    }
   ],
   "source": [
    "winelg_r.head()"
   ]
  },
  {
   "cell_type": "code",
   "execution_count": 61,
   "metadata": {},
   "outputs": [
    {
     "data": {
      "text/html": [
       "<div>\n",
       "<style scoped>\n",
       "    .dataframe tbody tr th:only-of-type {\n",
       "        vertical-align: middle;\n",
       "    }\n",
       "\n",
       "    .dataframe tbody tr th {\n",
       "        vertical-align: top;\n",
       "    }\n",
       "\n",
       "    .dataframe thead th {\n",
       "        text-align: right;\n",
       "    }\n",
       "</style>\n",
       "<table border=\"1\" class=\"dataframe\">\n",
       "  <thead>\n",
       "    <tr style=\"text-align: right;\">\n",
       "      <th></th>\n",
       "      <th>index</th>\n",
       "      <th>fixed acidity</th>\n",
       "      <th>volatile acidity</th>\n",
       "      <th>citric acid</th>\n",
       "      <th>residual sugar</th>\n",
       "      <th>chlorides</th>\n",
       "      <th>free sulfur dioxide</th>\n",
       "      <th>total sulfur dioxide</th>\n",
       "      <th>density</th>\n",
       "      <th>pH</th>\n",
       "      <th>sulphates</th>\n",
       "      <th>alcohol</th>\n",
       "      <th>quality</th>\n",
       "      <th>type</th>\n",
       "      <th>target</th>\n",
       "    </tr>\n",
       "  </thead>\n",
       "  <tbody>\n",
       "    <tr>\n",
       "      <th>0</th>\n",
       "      <td>0</td>\n",
       "      <td>7.0</td>\n",
       "      <td>0.27</td>\n",
       "      <td>0.36</td>\n",
       "      <td>20.7</td>\n",
       "      <td>0.045</td>\n",
       "      <td>45.0</td>\n",
       "      <td>170.0</td>\n",
       "      <td>1.0010</td>\n",
       "      <td>3.00</td>\n",
       "      <td>0.45</td>\n",
       "      <td>8.8</td>\n",
       "      <td>6</td>\n",
       "      <td>white</td>\n",
       "      <td>False</td>\n",
       "    </tr>\n",
       "    <tr>\n",
       "      <th>1</th>\n",
       "      <td>1</td>\n",
       "      <td>6.3</td>\n",
       "      <td>0.30</td>\n",
       "      <td>0.34</td>\n",
       "      <td>1.6</td>\n",
       "      <td>0.049</td>\n",
       "      <td>14.0</td>\n",
       "      <td>132.0</td>\n",
       "      <td>0.9940</td>\n",
       "      <td>3.30</td>\n",
       "      <td>0.49</td>\n",
       "      <td>9.5</td>\n",
       "      <td>6</td>\n",
       "      <td>white</td>\n",
       "      <td>False</td>\n",
       "    </tr>\n",
       "    <tr>\n",
       "      <th>2</th>\n",
       "      <td>2</td>\n",
       "      <td>8.1</td>\n",
       "      <td>0.28</td>\n",
       "      <td>0.40</td>\n",
       "      <td>6.9</td>\n",
       "      <td>0.050</td>\n",
       "      <td>30.0</td>\n",
       "      <td>97.0</td>\n",
       "      <td>0.9951</td>\n",
       "      <td>3.26</td>\n",
       "      <td>0.44</td>\n",
       "      <td>10.1</td>\n",
       "      <td>6</td>\n",
       "      <td>white</td>\n",
       "      <td>False</td>\n",
       "    </tr>\n",
       "    <tr>\n",
       "      <th>3</th>\n",
       "      <td>3</td>\n",
       "      <td>7.2</td>\n",
       "      <td>0.23</td>\n",
       "      <td>0.32</td>\n",
       "      <td>8.5</td>\n",
       "      <td>0.058</td>\n",
       "      <td>47.0</td>\n",
       "      <td>186.0</td>\n",
       "      <td>0.9956</td>\n",
       "      <td>3.19</td>\n",
       "      <td>0.40</td>\n",
       "      <td>9.9</td>\n",
       "      <td>6</td>\n",
       "      <td>white</td>\n",
       "      <td>False</td>\n",
       "    </tr>\n",
       "    <tr>\n",
       "      <th>4</th>\n",
       "      <td>4</td>\n",
       "      <td>7.2</td>\n",
       "      <td>0.23</td>\n",
       "      <td>0.32</td>\n",
       "      <td>8.5</td>\n",
       "      <td>0.058</td>\n",
       "      <td>47.0</td>\n",
       "      <td>186.0</td>\n",
       "      <td>0.9956</td>\n",
       "      <td>3.19</td>\n",
       "      <td>0.40</td>\n",
       "      <td>9.9</td>\n",
       "      <td>6</td>\n",
       "      <td>white</td>\n",
       "      <td>False</td>\n",
       "    </tr>\n",
       "  </tbody>\n",
       "</table>\n",
       "</div>"
      ],
      "text/plain": [
       "   index  fixed acidity  volatile acidity  citric acid  residual sugar  \\\n",
       "0      0            7.0              0.27         0.36            20.7   \n",
       "1      1            6.3              0.30         0.34             1.6   \n",
       "2      2            8.1              0.28         0.40             6.9   \n",
       "3      3            7.2              0.23         0.32             8.5   \n",
       "4      4            7.2              0.23         0.32             8.5   \n",
       "\n",
       "   chlorides  free sulfur dioxide  total sulfur dioxide  density    pH  \\\n",
       "0      0.045                 45.0                 170.0   1.0010  3.00   \n",
       "1      0.049                 14.0                 132.0   0.9940  3.30   \n",
       "2      0.050                 30.0                  97.0   0.9951  3.26   \n",
       "3      0.058                 47.0                 186.0   0.9956  3.19   \n",
       "4      0.058                 47.0                 186.0   0.9956  3.19   \n",
       "\n",
       "   sulphates  alcohol  quality   type  target  \n",
       "0       0.45      8.8        6  white   False  \n",
       "1       0.49      9.5        6  white   False  \n",
       "2       0.44     10.1        6  white   False  \n",
       "3       0.40      9.9        6  white   False  \n",
       "4       0.40      9.9        6  white   False  "
      ]
     },
     "execution_count": 61,
     "metadata": {},
     "output_type": "execute_result"
    }
   ],
   "source": [
    "winelg_w.head()"
   ]
  },
  {
   "cell_type": "markdown",
   "metadata": {},
   "source": [
    "* #### Train a logistic regression to predict wine quality (binary)"
   ]
  },
  {
   "cell_type": "code",
   "execution_count": 62,
   "metadata": {},
   "outputs": [],
   "source": [
    "X_winelg_r = winelg_r.drop(['index','quality','type','target'],axis=1)\n",
    "X_winelg_w = winelg_w.drop(['index','quality','type','target'],axis=1)\n",
    "\n",
    "y_winelg_r = winelg_r['target']\n",
    "y_winelg_w = winelg_w['target']"
   ]
  },
  {
   "cell_type": "code",
   "execution_count": 63,
   "metadata": {},
   "outputs": [],
   "source": [
    "from sklearn.model_selection import train_test_split\n",
    "\n",
    "X_winelg_r_train, X_winelg_r_test, y_winelg_r_train, y_winelg_r_test = train_test_split(X_winelg_r, y_winelg_r, random_state=1)\n",
    "X_winelg_w_train, X_winelg_w_test, y_winelg_w_train, y_winelg_w_test = train_test_split(X_winelg_w, y_winelg_w, random_state=1)"
   ]
  },
  {
   "cell_type": "code",
   "execution_count": 64,
   "metadata": {},
   "outputs": [
    {
     "data": {
      "text/plain": [
       "LogisticRegression(C=1000000000.0, class_weight=None, dual=False,\n",
       "          fit_intercept=True, intercept_scaling=1, max_iter=100,\n",
       "          multi_class='ovr', n_jobs=1, penalty='l2', random_state=None,\n",
       "          solver='liblinear', tol=0.0001, verbose=0, warm_start=False)"
      ]
     },
     "execution_count": 64,
     "metadata": {},
     "output_type": "execute_result"
    }
   ],
   "source": [
    "from sklearn.linear_model import LogisticRegression\n",
    "\n",
    "# build a logistic regression model\n",
    "\n",
    "logregr = LogisticRegression(C=1e9,solver='liblinear',multi_class='ovr')\n",
    "logregr.fit(X_winelg_r_train, y_winelg_r_train)"
   ]
  },
  {
   "cell_type": "code",
   "execution_count": 65,
   "metadata": {},
   "outputs": [
    {
     "data": {
      "text/plain": [
       "LogisticRegression(C=1000000000.0, class_weight=None, dual=False,\n",
       "          fit_intercept=True, intercept_scaling=1, max_iter=100,\n",
       "          multi_class='ovr', n_jobs=1, penalty='l2', random_state=None,\n",
       "          solver='liblinear', tol=0.0001, verbose=0, warm_start=False)"
      ]
     },
     "execution_count": 65,
     "metadata": {},
     "output_type": "execute_result"
    }
   ],
   "source": [
    "logregw = LogisticRegression(C=1e9,solver='liblinear',multi_class='ovr')\n",
    "logregw.fit(X_winelg_w_train, y_winelg_w_train)"
   ]
  },
  {
   "cell_type": "code",
   "execution_count": 66,
   "metadata": {},
   "outputs": [
    {
     "name": "stdout",
     "output_type": "stream",
     "text": [
      "\n",
      "\n",
      "Accuracy of the Logistic model is: \n",
      "Wine = White: 0.7918367346938775\n"
     ]
    }
   ],
   "source": [
    "y_winelg_r_pred = logregr.predict(X_winelg_r_test)\n",
    "y_winelg_w_pred = logregr.predict(X_winelg_w_test)\n",
    "\n",
    "print(\"\\n\")\n",
    "print(\"Accuracy of the Logistic model is: \")\n",
    "# print(\"Wine = Red: \" + str(metrics.accuracy_score(y_winelg_r_test, y_winelg_r_pred)))\n",
    "print(\"Wine = White: \" + str(metrics.accuracy_score(y_winelg_w_test, y_winelg_w_pred)))"
   ]
  },
  {
   "cell_type": "markdown",
   "metadata": {},
   "source": [
    "* #### Analyze the coefficients"
   ]
  },
  {
   "cell_type": "code",
   "execution_count": 67,
   "metadata": {},
   "outputs": [],
   "source": [
    "coef_log_r = logregr.coef_\n",
    "coef_log_r = pd.DataFrame(coef_log_r).T"
   ]
  },
  {
   "cell_type": "code",
   "execution_count": 68,
   "metadata": {},
   "outputs": [],
   "source": [
    "coef_log_w = logregw.coef_\n",
    "coef_log_w = pd.DataFrame(coef_log_w).T"
   ]
  },
  {
   "cell_type": "code",
   "execution_count": 69,
   "metadata": {},
   "outputs": [
    {
     "data": {
      "text/plain": [
       "Index(['fixed acidity', 'volatile acidity', 'citric acid', 'residual sugar',\n",
       "       'chlorides', 'free sulfur dioxide', 'total sulfur dioxide', 'density',\n",
       "       'pH', 'sulphates', 'alcohol'],\n",
       "      dtype='object')"
      ]
     },
     "execution_count": 69,
     "metadata": {},
     "output_type": "execute_result"
    }
   ],
   "source": [
    "X_winelg_r.columns"
   ]
  },
  {
   "cell_type": "code",
   "execution_count": 70,
   "metadata": {},
   "outputs": [
    {
     "data": {
      "image/png": "[encoded data removed]",
      "text/plain": [
       "<Figure size 432x288 with 1 Axes>"
      ]
     },
     "metadata": {
      "needs_background": "light"
     },
     "output_type": "display_data"
    }
   ],
   "source": [
    "x1 = np.arange(coef_log_r.shape[0])\n",
    "x2 = np.arange(coef_log_w.shape[0])\n",
    "\n",
    "plt.plot(x1, coef_log_r, marker='o', color=\"red\", markersize=5)\n",
    "plt.plot(x2, coef_log_w, marker='o', color=\"blue\", markersize=5)\n",
    "plt.xticks(np.arange(len(X_winelg_r.columns)), X_winelg_r.columns, rotation=90 )\n",
    "plt.legend(('Wine: Red', 'Wine: White'),loc='lower right')\n",
    "plt.show()"
   ]
  },
  {
   "cell_type": "markdown",
   "metadata": {},
   "source": [
    "* #### Evaluate the f1score"
   ]
  },
  {
   "cell_type": "code",
   "execution_count": 71,
   "metadata": {},
   "outputs": [
    {
     "name": "stdout",
     "output_type": "stream",
     "text": [
      "\n",
      "\n",
      " f1score of the Logistic model is: \n",
      "Wine = Red: 0.37333333333333335\n",
      "Wine = White: 0.36082474226804123\n"
     ]
    }
   ],
   "source": [
    "y_winelg_r_pred = logregr.predict(X_winelg_r_test)\n",
    "y_winelg_w_pred = logregw.predict(X_winelg_w_test)\n",
    "\n",
    "print(\"\\n\")\n",
    "print(\" f1score of the Logistic model is: \")\n",
    "print(\"Wine = Red: \" + str(metrics.f1_score(y_winelg_r_test, y_winelg_r_pred)))\n",
    "print(\"Wine = White: \" + str(metrics.f1_score(y_winelg_w_test, y_winelg_w_pred)))"
   ]
  },
  {
   "cell_type": "markdown",
   "metadata": {},
   "source": [
    "# Exercise 6.10\n",
    "\n",
    "* Estimate a regularized logistic regression using:\n",
    "* C = 0.01, 0.1 & 1.0\n",
    "* penalty = ['l1, 'l2']\n",
    "* Compare the coefficients and the f1score"
   ]
  },
  {
   "cell_type": "code",
   "execution_count": 72,
   "metadata": {},
   "outputs": [],
   "source": [
    "# Parameters to interate.\n",
    "\n",
    "C_param = [0.001, 0.01, 0.1, 1, 10, 100]\n",
    "penalty_param = ['l1','l2']"
   ]
  },
  {
   "cell_type": "markdown",
   "metadata": {},
   "source": [
    "* #### f1score comparisson"
   ]
  },
  {
   "cell_type": "code",
   "execution_count": 73,
   "metadata": {},
   "outputs": [
    {
     "data": {
      "text/html": [
       "<div>\n",
       "<style scoped>\n",
       "    .dataframe tbody tr th:only-of-type {\n",
       "        vertical-align: middle;\n",
       "    }\n",
       "\n",
       "    .dataframe tbody tr th {\n",
       "        vertical-align: top;\n",
       "    }\n",
       "\n",
       "    .dataframe thead th {\n",
       "        text-align: right;\n",
       "    }\n",
       "</style>\n",
       "<table border=\"1\" class=\"dataframe\">\n",
       "  <thead>\n",
       "    <tr style=\"text-align: right;\">\n",
       "      <th></th>\n",
       "      <th>0</th>\n",
       "      <th>1</th>\n",
       "    </tr>\n",
       "  </thead>\n",
       "  <tbody>\n",
       "    <tr>\n",
       "      <th>0</th>\n",
       "      <td>0.000000</td>\n",
       "      <td>0.000000</td>\n",
       "    </tr>\n",
       "    <tr>\n",
       "      <th>1</th>\n",
       "      <td>0.000000</td>\n",
       "      <td>0.000000</td>\n",
       "    </tr>\n",
       "    <tr>\n",
       "      <th>2</th>\n",
       "      <td>0.245614</td>\n",
       "      <td>0.117647</td>\n",
       "    </tr>\n",
       "    <tr>\n",
       "      <th>3</th>\n",
       "      <td>0.405405</td>\n",
       "      <td>0.422535</td>\n",
       "    </tr>\n",
       "    <tr>\n",
       "      <th>4</th>\n",
       "      <td>0.356164</td>\n",
       "      <td>0.405405</td>\n",
       "    </tr>\n",
       "    <tr>\n",
       "      <th>5</th>\n",
       "      <td>0.378378</td>\n",
       "      <td>0.356164</td>\n",
       "    </tr>\n",
       "  </tbody>\n",
       "</table>\n",
       "</div>"
      ],
      "text/plain": [
       "          0         1\n",
       "0  0.000000  0.000000\n",
       "1  0.000000  0.000000\n",
       "2  0.245614  0.117647\n",
       "3  0.405405  0.422535\n",
       "4  0.356164  0.405405\n",
       "5  0.378378  0.356164"
      ]
     },
     "execution_count": 73,
     "metadata": {},
     "output_type": "execute_result"
    }
   ],
   "source": [
    "R_log_f1 = np.zeros((len(C_param), len(penalty_param)))\n",
    "\n",
    "for i in range(len(C_param)):\n",
    "    for j in range(len(penalty_param)):\n",
    "        \n",
    "        logr = LogisticRegression(C=C_param[i], penalty=penalty_param[j], solver='liblinear',multi_class='ovr')\n",
    "        logr.fit(X_winelg_r_train, y_winelg_r_train) \n",
    "        R_log_f1[i,j] = metrics.f1_score(y_winelg_r_test, logr.predict(X_winelg_r_test))\n",
    "\n",
    "Matrix_R_logf1 = pd.DataFrame(R_log_f1)\n",
    "Matrix_R_logf1"
   ]
  },
  {
   "cell_type": "code",
   "execution_count": 74,
   "metadata": {},
   "outputs": [
    {
     "data": {
      "text/html": [
       "<div>\n",
       "<style scoped>\n",
       "    .dataframe tbody tr th:only-of-type {\n",
       "        vertical-align: middle;\n",
       "    }\n",
       "\n",
       "    .dataframe tbody tr th {\n",
       "        vertical-align: top;\n",
       "    }\n",
       "\n",
       "    .dataframe thead th {\n",
       "        text-align: right;\n",
       "    }\n",
       "</style>\n",
       "<table border=\"1\" class=\"dataframe\">\n",
       "  <thead>\n",
       "    <tr style=\"text-align: right;\">\n",
       "      <th></th>\n",
       "      <th>0</th>\n",
       "      <th>1</th>\n",
       "    </tr>\n",
       "  </thead>\n",
       "  <tbody>\n",
       "    <tr>\n",
       "      <th>0</th>\n",
       "      <td>0.000000</td>\n",
       "      <td>0.014235</td>\n",
       "    </tr>\n",
       "    <tr>\n",
       "      <th>1</th>\n",
       "      <td>0.041237</td>\n",
       "      <td>0.181818</td>\n",
       "    </tr>\n",
       "    <tr>\n",
       "      <th>2</th>\n",
       "      <td>0.262570</td>\n",
       "      <td>0.288089</td>\n",
       "    </tr>\n",
       "    <tr>\n",
       "      <th>3</th>\n",
       "      <td>0.354167</td>\n",
       "      <td>0.358839</td>\n",
       "    </tr>\n",
       "    <tr>\n",
       "      <th>4</th>\n",
       "      <td>0.354756</td>\n",
       "      <td>0.374359</td>\n",
       "    </tr>\n",
       "    <tr>\n",
       "      <th>5</th>\n",
       "      <td>0.356589</td>\n",
       "      <td>0.365482</td>\n",
       "    </tr>\n",
       "  </tbody>\n",
       "</table>\n",
       "</div>"
      ],
      "text/plain": [
       "          0         1\n",
       "0  0.000000  0.014235\n",
       "1  0.041237  0.181818\n",
       "2  0.262570  0.288089\n",
       "3  0.354167  0.358839\n",
       "4  0.354756  0.374359\n",
       "5  0.356589  0.365482"
      ]
     },
     "execution_count": 74,
     "metadata": {},
     "output_type": "execute_result"
    }
   ],
   "source": [
    "W_log_f1 = np.zeros((len(C_param), len(penalty_param)))\n",
    "\n",
    "for i in range(len(C_param)):\n",
    "    for j in range(len(penalty_param)):\n",
    "        \n",
    "        logw = LogisticRegression(C=C_param[i], penalty=penalty_param[j], solver='liblinear',multi_class='ovr')\n",
    "        logw.fit(X_winelg_w_train, y_winelg_w_train) \n",
    "        W_log_f1[i,j] = metrics.f1_score(y_winelg_w_test, logw.predict(X_winelg_w_test))\n",
    "\n",
    "Matrix_W_logf1 = pd.DataFrame(W_log_f1)\n",
    "Matrix_W_logf1"
   ]
  },
  {
   "cell_type": "code",
   "execution_count": 75,
   "metadata": {},
   "outputs": [
    {
     "data": {
      "image/png": "[encoded data removed]",
      "text/plain": [
       "<Figure size 1152x576 with 4 Axes>"
      ]
     },
     "metadata": {
      "needs_background": "light"
     },
     "output_type": "display_data"
    }
   ],
   "source": [
    "f, (ax1, ax2) = plt.subplots(1,2, figsize=(16, 8))\n",
    "\n",
    "Ax1 = ax1.matshow(Matrix_R_logf1, cmap=plt.cm.Reds)\n",
    "ax1.set_title('f1score - Wine: Red')\n",
    "ax1.set_xlabel('Penalty parameter')\n",
    "ax1.set_ylabel('C parameter')\n",
    "ax1.set_xticks(np.arange(len(penalty_param)))\n",
    "ax1.set_yticks(np.arange(len(C_param)))\n",
    "ax1.set_xticklabels(penalty_param)\n",
    "ax1.set_yticklabels(C_param)\n",
    "\n",
    "\n",
    "Ax2 = ax2.matshow(Matrix_W_logf1, cmap=plt.cm.Blues)\n",
    "ax2.set_title('f1score - Wine: White')\n",
    "ax2.set_xlabel('Penalty parameter')\n",
    "ax2.set_ylabel('C parameter')\n",
    "ax2.set_xticks(np.arange(len(penalty_param)))\n",
    "ax2.set_yticks(np.arange(len(C_param)))\n",
    "ax2.set_xticklabels(penalty_param)\n",
    "ax2.set_yticklabels(C_param)\n",
    "\n",
    "f.colorbar(Ax2)\n",
    "f.colorbar(Ax1)\n",
    "\n",
    "f.show()"
   ]
  },
  {
   "cell_type": "markdown",
   "metadata": {},
   "source": [
    "According to this result, the penalty \"l2\" shows better results (f1score is bigger with l2. Fore more details about the f1score metric, [click here](https://scikit-learn.org/stable/modules/generated/sklearn.metrics.f1_score.html)"
   ]
  },
  {
   "cell_type": "markdown",
   "metadata": {},
   "source": [
    "* #### Coefficients comparisson"
   ]
  },
  {
   "cell_type": "markdown",
   "metadata": {},
   "source": [
    "    Coefficients for Wines type \"Red\"."
   ]
  },
  {
   "cell_type": "code",
   "execution_count": 76,
   "metadata": {},
   "outputs": [
    {
     "data": {
      "text/html": [
       "<div>\n",
       "<style scoped>\n",
       "    .dataframe tbody tr th:only-of-type {\n",
       "        vertical-align: middle;\n",
       "    }\n",
       "\n",
       "    .dataframe tbody tr th {\n",
       "        vertical-align: top;\n",
       "    }\n",
       "\n",
       "    .dataframe thead th {\n",
       "        text-align: right;\n",
       "    }\n",
       "</style>\n",
       "<table border=\"1\" class=\"dataframe\">\n",
       "  <thead>\n",
       "    <tr style=\"text-align: right;\">\n",
       "      <th></th>\n",
       "      <th>0</th>\n",
       "      <th>1</th>\n",
       "    </tr>\n",
       "  </thead>\n",
       "  <tbody>\n",
       "    <tr>\n",
       "      <th>0</th>\n",
       "      <td>0.025897</td>\n",
       "      <td>0.013508</td>\n",
       "    </tr>\n",
       "    <tr>\n",
       "      <th>1</th>\n",
       "      <td>-3.702170</td>\n",
       "      <td>-3.771160</td>\n",
       "    </tr>\n",
       "    <tr>\n",
       "      <th>2</th>\n",
       "      <td>-0.161648</td>\n",
       "      <td>-0.235092</td>\n",
       "    </tr>\n",
       "    <tr>\n",
       "      <th>3</th>\n",
       "      <td>0.133827</td>\n",
       "      <td>0.130016</td>\n",
       "    </tr>\n",
       "    <tr>\n",
       "      <th>4</th>\n",
       "      <td>-11.928326</td>\n",
       "      <td>-9.952926</td>\n",
       "    </tr>\n",
       "    <tr>\n",
       "      <th>5</th>\n",
       "      <td>0.023028</td>\n",
       "      <td>0.023176</td>\n",
       "    </tr>\n",
       "    <tr>\n",
       "      <th>6</th>\n",
       "      <td>-0.021830</td>\n",
       "      <td>-0.021759</td>\n",
       "    </tr>\n",
       "    <tr>\n",
       "      <th>7</th>\n",
       "      <td>-2.983370</td>\n",
       "      <td>-3.005384</td>\n",
       "    </tr>\n",
       "    <tr>\n",
       "      <th>8</th>\n",
       "      <td>-1.643427</td>\n",
       "      <td>-1.859308</td>\n",
       "    </tr>\n",
       "    <tr>\n",
       "      <th>9</th>\n",
       "      <td>3.445648</td>\n",
       "      <td>3.417300</td>\n",
       "    </tr>\n",
       "    <tr>\n",
       "      <th>10</th>\n",
       "      <td>0.953379</td>\n",
       "      <td>0.963120</td>\n",
       "    </tr>\n",
       "  </tbody>\n",
       "</table>\n",
       "</div>"
      ],
      "text/plain": [
       "            0         1\n",
       "0    0.025897  0.013508\n",
       "1   -3.702170 -3.771160\n",
       "2   -0.161648 -0.235092\n",
       "3    0.133827  0.130016\n",
       "4  -11.928326 -9.952926\n",
       "5    0.023028  0.023176\n",
       "6   -0.021830 -0.021759\n",
       "7   -2.983370 -3.005384\n",
       "8   -1.643427 -1.859308\n",
       "9    3.445648  3.417300\n",
       "10   0.953379  0.963120"
      ]
     },
     "execution_count": 76,
     "metadata": {},
     "output_type": "execute_result"
    }
   ],
   "source": [
    "R_log_coef_ = np.zeros(len(C_param))\n",
    "R_log_coef = pd.DataFrame()\n",
    "\n",
    "# penalty l1\n",
    "for i in range(len(C_param)):\n",
    "    logrl1_coef = LogisticRegression(C=C_param[i], penalty=penalty_param[0], solver='liblinear',multi_class='ovr')\n",
    "    logrl1_coef.fit(X_winelg_r_train, y_winelg_r_train) \n",
    "    R_log_coef_ = pd.DataFrame(logrl1_coef.coef_)\n",
    "\n",
    "R_log_coef = R_log_coef_.T\n",
    "\n",
    "# penalty l2\n",
    "for i in range(len(C_param)):\n",
    "    logrl2_coef = LogisticRegression(C=C_param[i], penalty=penalty_param[1], solver='liblinear',multi_class='ovr')\n",
    "    logrl2_coef.fit(X_winelg_r_train, y_winelg_r_train) \n",
    "    R_log_coef_ = pd.DataFrame(logrl2_coef.coef_)\n",
    "    \n",
    "R_log_coef[1] = R_log_coef_.T\n",
    "\n",
    "R_log_coef"
   ]
  },
  {
   "cell_type": "markdown",
   "metadata": {},
   "source": [
    "    Coefficients for Wines type \"Red\"."
   ]
  },
  {
   "cell_type": "code",
   "execution_count": 77,
   "metadata": {},
   "outputs": [
    {
     "data": {
      "text/html": [
       "<div>\n",
       "<style scoped>\n",
       "    .dataframe tbody tr th:only-of-type {\n",
       "        vertical-align: middle;\n",
       "    }\n",
       "\n",
       "    .dataframe tbody tr th {\n",
       "        vertical-align: top;\n",
       "    }\n",
       "\n",
       "    .dataframe thead th {\n",
       "        text-align: right;\n",
       "    }\n",
       "</style>\n",
       "<table border=\"1\" class=\"dataframe\">\n",
       "  <thead>\n",
       "    <tr style=\"text-align: right;\">\n",
       "      <th></th>\n",
       "      <th>0</th>\n",
       "      <th>1</th>\n",
       "    </tr>\n",
       "  </thead>\n",
       "  <tbody>\n",
       "    <tr>\n",
       "      <th>0</th>\n",
       "      <td>0.062991</td>\n",
       "      <td>0.118437</td>\n",
       "    </tr>\n",
       "    <tr>\n",
       "      <th>1</th>\n",
       "      <td>-3.829885</td>\n",
       "      <td>-3.914269</td>\n",
       "    </tr>\n",
       "    <tr>\n",
       "      <th>2</th>\n",
       "      <td>-0.888083</td>\n",
       "      <td>-1.130774</td>\n",
       "    </tr>\n",
       "    <tr>\n",
       "      <th>3</th>\n",
       "      <td>0.060736</td>\n",
       "      <td>0.064183</td>\n",
       "    </tr>\n",
       "    <tr>\n",
       "      <th>4</th>\n",
       "      <td>-21.995403</td>\n",
       "      <td>-7.225919</td>\n",
       "    </tr>\n",
       "    <tr>\n",
       "      <th>5</th>\n",
       "      <td>0.012610</td>\n",
       "      <td>0.013383</td>\n",
       "    </tr>\n",
       "    <tr>\n",
       "      <th>6</th>\n",
       "      <td>-0.002796</td>\n",
       "      <td>-0.003447</td>\n",
       "    </tr>\n",
       "    <tr>\n",
       "      <th>7</th>\n",
       "      <td>-6.791370</td>\n",
       "      <td>-8.235978</td>\n",
       "    </tr>\n",
       "    <tr>\n",
       "      <th>8</th>\n",
       "      <td>1.178323</td>\n",
       "      <td>1.537070</td>\n",
       "    </tr>\n",
       "    <tr>\n",
       "      <th>9</th>\n",
       "      <td>1.082376</td>\n",
       "      <td>1.023947</td>\n",
       "    </tr>\n",
       "    <tr>\n",
       "      <th>10</th>\n",
       "      <td>0.841048</td>\n",
       "      <td>0.916626</td>\n",
       "    </tr>\n",
       "  </tbody>\n",
       "</table>\n",
       "</div>"
      ],
      "text/plain": [
       "            0         1\n",
       "0    0.062991  0.118437\n",
       "1   -3.829885 -3.914269\n",
       "2   -0.888083 -1.130774\n",
       "3    0.060736  0.064183\n",
       "4  -21.995403 -7.225919\n",
       "5    0.012610  0.013383\n",
       "6   -0.002796 -0.003447\n",
       "7   -6.791370 -8.235978\n",
       "8    1.178323  1.537070\n",
       "9    1.082376  1.023947\n",
       "10   0.841048  0.916626"
      ]
     },
     "execution_count": 77,
     "metadata": {},
     "output_type": "execute_result"
    }
   ],
   "source": [
    "W_log_coef_ = np.zeros(len(C_param))\n",
    "W_log_coef = pd.DataFrame()\n",
    "\n",
    "# penalty l1\n",
    "for i in range(len(C_param)):\n",
    "    logwl1_coef = LogisticRegression(C=C_param[i], penalty=penalty_param[0], solver='liblinear',multi_class='ovr')\n",
    "    logwl1_coef.fit(X_winelg_w_train, y_winelg_w_train) \n",
    "    W_log_coef_ = pd.DataFrame(logwl1_coef.coef_)\n",
    "\n",
    "W_log_coef = W_log_coef_.T\n",
    "\n",
    "# penalty l2\n",
    "for i in range(len(C_param)):\n",
    "    logwl1_coef = LogisticRegression(C=C_param[i], penalty=penalty_param[1], solver='liblinear',multi_class='ovr')\n",
    "    logwl1_coef.fit(X_winelg_w_train, y_winelg_w_train) \n",
    "    W_log_coef_ = pd.DataFrame(logwl1_coef.coef_)\n",
    "\n",
    "W_log_coef[1] = W_log_coef_.T\n",
    "\n",
    "W_log_coef"
   ]
  },
  {
   "cell_type": "code",
   "execution_count": 78,
   "metadata": {},
   "outputs": [
    {
     "data": {
      "image/png": "[encoded data removed]",
      "text/plain": [
       "<Figure size 1008x504 with 2 Axes>"
      ]
     },
     "metadata": {
      "needs_background": "light"
     },
     "output_type": "display_data"
    }
   ],
   "source": [
    "f, (ax1, ax2) = plt.subplots(1,2, figsize=(14, 7))\n",
    "\n",
    "ax1.plot(R_log_coef, marker='o', markersize=5)\n",
    "ax1.set_title('Coefficients comparison - Wine: Red')\n",
    "ax1.set_xlabel('Coefficients')\n",
    "ax1.set_xticks( np.arange(X_winelg_r.shape[1]))\n",
    "ax1.set_xticklabels( X_winelg_r.columns, rotation=90)\n",
    "ax1.legend([\"penalty : l1\",\"penalty : l2\"])\n",
    "\n",
    "\n",
    "ax2.plot(W_log_coef, marker='o', markersize=5)\n",
    "ax2.set_title('Coefficients comparison - Wine: White')\n",
    "ax2.set_xlabel('Coefficients')\n",
    "ax2.set_xticks( np.arange(X_winelg_w.shape[1]))\n",
    "ax2.set_xticklabels( X_winelg_w.columns, rotation=90)\n",
    "ax2.legend([\"penalty : l1\",\"penalty : l2\"])\n",
    "\n",
    "f.show()"
   ]
  },
  {
   "cell_type": "markdown",
   "metadata": {},
   "source": [
    "As per this result, the only coefficent that differs between penalties is \"chlorides\" and, in particular, is the lowest coefficient in terms to determinate if a wine have a good quality (according to the threshold defined at the begging of this notebook)."
   ]
  }
 ],
 "metadata": {
  "kernelspec": {
   "display_name": "Python 3",
   "language": "python",
   "name": "python3"
  },
  "language_info": {
   "codemirror_mode": {
    "name": "ipython",
    "version": 3
   },
   "file_extension": ".py",
   "mimetype": "text/x-python",
   "name": "python",
   "nbconvert_exporter": "python",
   "pygments_lexer": "ipython3",
   "version": "3.5.6"
  }
 },
 "nbformat": 4,
 "nbformat_minor": 1
}
